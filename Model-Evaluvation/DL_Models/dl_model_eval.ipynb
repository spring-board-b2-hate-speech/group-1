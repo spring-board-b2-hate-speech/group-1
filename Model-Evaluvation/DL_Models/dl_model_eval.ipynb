{
 "cells": [
  {
   "cell_type": "markdown",
   "metadata": {},
   "source": [
    "#  __Deep Learning Models__\n",
    "\n"
   ]
  },
  {
   "cell_type": "markdown",
   "metadata": {},
   "source": [
    "## Import necessary libraries"
   ]
  },
  {
   "cell_type": "code",
   "execution_count": null,
   "metadata": {},
   "outputs": [],
   "source": [
    "import pandas as pd\n",
    "import numpy as np\n",
    "from sklearn.model_selection import train_test_split\n",
    "from sklearn.metrics import classification_report, accuracy_score\n",
    "from imblearn.over_sampling import SMOTE\n",
    "from tensorflow.keras.models import Sequential\n",
    "from tensorflow.keras.layers import Dense, LSTM, Embedding, SpatialDropout1D, Conv1D, GlobalMaxPooling1D, Bidirectional\n",
    "from tensorflow.keras.preprocessing.sequence import pad_sequences\n",
    "from tensorflow.keras.preprocessing.text import Tokenizer\n",
    "from tensorflow.keras.callbacks import EarlyStopping\n",
    "from tensorflow.keras.regularizers import l2"
   ]
  },
  {
   "cell_type": "code",
   "execution_count": null,
   "metadata": {},
   "outputs": [],
   "source": [
    "#Load the cleaned dataset\n",
    "df = pd.read_csv(r'C:\\group-1-main\\Model-Evaluvation\\cleaned_data.csv')\n",
    "df['tweet'] = df['tweet'].astype(str)\n"
   ]
  },
  {
   "cell_type": "markdown",
   "metadata": {},
   "source": [
    "## Encoding and Handling Data Imbalance"
   ]
  },
  {
   "cell_type": "code",
   "execution_count": null,
   "metadata": {},
   "outputs": [],
   "source": [
    "# Split the data into training and testing sets\n",
    "X = df['tweet']\n",
    "y = df['class']\n",
    "X_train, X_test, y_train, y_test = train_test_split(X, y, test_size=0.2, random_state=42)\n",
    "\n",
    "# Initialize and fit the tokenizer on training data\n",
    "tokenizer = Tokenizer()\n",
    "tokenizer.fit_on_texts(X_train)\n",
    "\n",
    "# Transform training and test data\n",
    "X_train_seq = tokenizer.texts_to_sequences(X_train)\n",
    "X_test_seq = tokenizer.texts_to_sequences(X_test)\n",
    "\n",
    "# Pad sequences to the same length\n",
    "X_train_pad = pad_sequences(X_train_seq, maxlen=100)\n",
    "X_test_pad = pad_sequences(X_test_seq, maxlen=100)\n",
    "\n",
    "vocab_size = len(tokenizer.word_index) + 1\n",
    "\n",
    "# Address class imbalance using SMOTE on training data\n",
    "smote = SMOTE(random_state=42)\n",
    "X_train_pad_res, y_train_pad_res = smote.fit_resample(X_train_pad, y_train)\n",
    "\n",
    "\n",
    "# Define early stopping callback\n",
    "early_stopping = EarlyStopping(monitor='val_loss', patience=3, restore_best_weights=True)"
   ]
  },
  {
   "cell_type": "markdown",
   "metadata": {},
   "source": [
    "## 1.  __LSTM__ model"
   ]
  },
  {
   "cell_type": "code",
   "execution_count": null,
   "metadata": {},
   "outputs": [],
   "source": [
    "# Define LSTM model\n",
    "lstm_model = Sequential()\n",
    "lstm_model.add(Embedding(input_dim=vocab_size, output_dim=128))\n",
    "lstm_model.add(SpatialDropout1D(0.2))  # Dropout layer to prevent overfitting\n",
    "lstm_model.add(Bidirectional(LSTM(100, dropout=0.2, recurrent_dropout=0.2, kernel_regularizer=l2(0.01))))\n",
    "lstm_model.add(Dense(3, activation='softmax'))  # Assuming 3 classes\n",
    "\n",
    "# Compile the model with Adam optimizer\n",
    "lstm_model.compile(loss='sparse_categorical_crossentropy', optimizer='adam', metrics=['accuracy'])\n",
    "\n",
    "# Train the LSTM model with early stopping\n",
    "lstm_model.fit(X_train_pad_res, y_train_pad_res, epochs=20, batch_size=64, validation_data=(X_test_pad, y_test), callbacks=[early_stopping])\n",
    "\n",
    "# Evaluate LSTM model\n",
    "lstm_loss, lstm_accuracy = lstm_model.evaluate(X_test_pad, y_test)\n",
    "lstm_y_pred = lstm_model.predict(X_test_pad)\n",
    "lstm_y_pred_classes = np.argmax(lstm_y_pred, axis=1)\n",
    "lstm_report = classification_report(y_test, lstm_y_pred_classes, target_names=['Normal', 'Hate', 'Offensive'])\n",
    "\n",
    "print(\"LSTM Model Accuracy:\", lstm_accuracy)\n",
    "print(\"LSTM Model Classification Report:\\n\", lstm_report)"
   ]
  },
  {
   "cell_type": "markdown",
   "metadata": {},
   "source": [
    "## 2.  __CNN__ "
   ]
  },
  {
   "cell_type": "code",
   "execution_count": null,
   "metadata": {},
   "outputs": [],
   "source": [
    "# Define CNN model\n",
    "cnn_model = Sequential()\n",
    "cnn_model.add(Embedding(input_dim=vocab_size, output_dim=128))\n",
    "cnn_model.add(Conv1D(filters=128, kernel_size=5, activation='relu'))\n",
    "cnn_model.add(GlobalMaxPooling1D())\n",
    "cnn_model.add(Dense(3, activation='softmax'))  # Assuming 3 classes\n",
    "\n",
    "# Compile the model with Adam optimizer\n",
    "cnn_model.compile(loss='sparse_categorical_crossentropy', optimizer='adam', metrics=['accuracy'])\n",
    "\n",
    "# Train the CNN model with early stopping\n",
    "cnn_model.fit(X_train_pad_res, y_train_pad_res, epochs=20, batch_size=64, validation_data=(X_test_pad, y_test), callbacks=[early_stopping])\n",
    "\n",
    "# Evaluate CNN model\n",
    "cnn_loss, cnn_accuracy = cnn_model.evaluate(X_test_pad, y_test)\n",
    "cnn_y_pred = cnn_model.predict(X_test_pad)\n",
    "cnn_y_pred_classes = np.argmax(cnn_y_pred, axis=1)\n",
    "cnn_report = classification_report(y_test, cnn_y_pred_classes, target_names=['Normal', 'Hate', 'Offensive'])\n",
    "\n",
    "print(\"CNN Model Accuracy:\", cnn_accuracy)\n",
    "print(\"CNN Model Classification Report:\\n\", cnn_report)"
   ]
  },
  {
   "cell_type": "markdown",
   "metadata": {},
   "source": [
    "## 3.  __Bidirectional LSTM__ model"
   ]
  },
  {
   "cell_type": "code",
   "execution_count": null,
   "metadata": {},
   "outputs": [],
   "source": [
    "# Define Bidirectional LSTM model\n",
    "bi_lstm_model = Sequential()\n",
    "bi_lstm_model.add(Embedding(input_dim=vocab_size, output_dim=128))\n",
    "bi_lstm_model.add(SpatialDropout1D(0.2))  # Dropout layer to prevent overfitting\n",
    "bi_lstm_model.add(Bidirectional(LSTM(100, dropout=0.2, recurrent_dropout=0.2, kernel_regularizer=l2(0.01))))\n",
    "bi_lstm_model.add(Dense(3, activation='softmax'))  # Assuming 3 classes\n",
    "\n",
    "# Compile the model with Adam optimizer\n",
    "bi_lstm_model.compile(loss='sparse_categorical_crossentropy', optimizer='adam', metrics=['accuracy'])\n",
    "\n",
    "# Train the Bidirectional LSTM model with early stopping\n",
    "bi_lstm_model.fit(X_train_pad_res, y_train_pad_res, epochs=20, batch_size=64, validation_data=(X_test_pad, y_test), callbacks=[early_stopping])\n",
    "\n",
    "# Evaluate Bidirectional LSTM model\n",
    "bi_lstm_loss, bi_lstm_accuracy = bi_lstm_model.evaluate(X_test_pad, y_test)\n",
    "bi_lstm_y_pred = bi_lstm_model.predict(X_test_pad)\n",
    "bi_lstm_y_pred_classes = np.argmax(bi_lstm_y_pred, axis=1)\n",
    "bi_lstm_report = classification_report(y_test, bi_lstm_y_pred_classes, target_names=['Normal', 'Hate', 'Offensive'])\n",
    "\n",
    "print(\"Bidirectional LSTM Model Accuracy:\", bi_lstm_accuracy)\n",
    "print(\"Bidirectional LSTM Model Classification Report:\\n\", bi_lstm_report)"
   ]
  }
 ],
 "metadata": {
  "kernelspec": {
   "display_name": "Python 3",
   "language": "python",
   "name": "python3"
  },
  "language_info": {
   "codemirror_mode": {
    "name": "ipython",
    "version": 3
   },
   "file_extension": ".py",
   "mimetype": "text/x-python",
   "name": "python",
   "nbconvert_exporter": "python",
   "pygments_lexer": "ipython3",
   "version": "3.12.4"
  }
 },
 "nbformat": 4,
 "nbformat_minor": 2
}
