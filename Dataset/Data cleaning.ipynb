{
 "cells": [
  {
   "cell_type": "code",
   "execution_count": null,
   "id": "304e0a7a",
   "metadata": {},
   "outputs": [],
   "source": [
    "import pandas as pd\n",
    "import re\n",
    "df=pd.read_csv(\"labeled_data.csv\")\n"
   ]
  },
  {
   "cell_type": "code",
   "execution_count": null,
   "id": "b72b05df",
   "metadata": {},
   "outputs": [],
   "source": [
    "print(df.head())  \n",
    "print(df.info())  \n",
    "print(df.describe())  "
   ]
  },
  {
   "cell_type": "markdown",
   "id": "b5158029",
   "metadata": {},
   "source": [
    "Data Cleaning"
   ]
  },
  {
   "cell_type": "code",
   "execution_count": null,
   "id": "53e7f0d7",
   "metadata": {},
   "outputs": [],
   "source": [
    "df = df.dropna()# Remove rows with any Null values\n",
    "print(df.isnull().sum())\n",
    "df = df.drop_duplicates()\n"
   ]
  },
  {
   "cell_type": "markdown",
   "id": "36b8afbe",
   "metadata": {},
   "source": [
    "Text Preprocessing"
   ]
  },
  {
   "cell_type": "code",
   "execution_count": null,
   "id": "929683c2",
   "metadata": {},
   "outputs": [],
   "source": [
    "\n",
    "df['tweet'] = df['tweet'].str.lower() # conveerting to lowewr case\n",
    "df['tweet'] = df['tweet'].str.strip() # removing white spaces\n",
    "df['tweet'] = df['tweet'].apply(lambda x: re.sub(r'[^A-Za-z0-9\\s]', '', x)) # removing symbols"
   ]
  },
  {
   "cell_type": "code",
   "execution_count": null,
   "id": "f903390b",
   "metadata": {},
   "outputs": [],
   "source": [
    "df.to_csv(\"cleaned_labeled_data.csv\", index=False)\n"
   ]
  },
  {
   "cell_type": "code",
   "execution_count": null,
   "id": "398d0741",
   "metadata": {},
   "outputs": [],
   "source": []
  }
 ],
 "metadata": {
  "kernelspec": {
   "display_name": "Python 3 (ipykernel)",
   "language": "python",
   "name": "python3"
  },
  "language_info": {
   "codemirror_mode": {
    "name": "ipython",
    "version": 3
   },
   "file_extension": ".py",
   "mimetype": "text/x-python",
   "name": "python",
   "nbconvert_exporter": "python",
   "pygments_lexer": "ipython3",
   "version": "3.12.3"
  }
 },
 "nbformat": 4,
 "nbformat_minor": 5
}
