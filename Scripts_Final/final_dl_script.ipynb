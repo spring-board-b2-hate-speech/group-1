{
 "cells": [
  {
   "cell_type": "code",
   "execution_count": 10,
   "metadata": {},
   "outputs": [],
   "source": [
    "import pandas as pd\n",
    "import numpy as np\n",
    "from sklearn.model_selection import train_test_split\n",
    "from sklearn.metrics import classification_report, accuracy_score, f1_score\n",
    "from tensorflow.keras.preprocessing.text import Tokenizer\n",
    "from tensorflow.keras.preprocessing.sequence import pad_sequences\n",
    "from tensorflow.keras.models import Sequential, Model\n",
    "from tensorflow.keras.layers import Embedding, LSTM, Dense, Dropout, Input, Layer\n",
    "from tensorflow.keras.callbacks import EarlyStopping, ModelCheckpoint\n",
    "import tensorflow as tf\n",
    "from tensorflow.keras.layers import Attention"
   ]
  },
  {
   "cell_type": "code",
   "execution_count": 11,
   "metadata": {},
   "outputs": [],
   "source": [
    "# Load the dataset\n",
    "df = pd.read_csv('C:\\\\group-1-main\\\\Model-Evaluvation\\\\cleaned_data.csv')\n",
    "\n",
    "# Ensure all entries in the text column are strings\n",
    "df['tweet'] = df['tweet'].astype(str).fillna('')\n",
    "\n",
    "# Filter the dataset to include only hate speech (0), offensive language (1), and non-hate speech (2)\n",
    "df = df[df['class'].isin([0, 1, 2])]\n",
    "\n",
    "# Encode the labels (0 and 1 for hate speech and offensive language, 2 for non-hate speech)\n",
    "label_mapping = {0: 0, 1: 0, 2: 1}\n",
    "df['label'] = df['class'].map(label_mapping)\n",
    "\n",
    "# Split the data\n",
    "X = df['tweet'].values\n",
    "y = df['label'].values\n",
    "X_train, X_test, y_train, y_test = train_test_split(X, y, test_size=0.2, random_state=42)\n",
    "\n",
    "# Ensure all training and test data are strings\n",
    "X_train = [str(text) for text in X_train]\n",
    "X_test = [str(text) for text in X_test]"
   ]
  },
  {
   "cell_type": "code",
   "execution_count": 12,
   "metadata": {},
   "outputs": [],
   "source": [
    "# Tokenize the text\n",
    "tokenizer = Tokenizer(num_words=10000)  # Adjust num_words as needed\n",
    "tokenizer.fit_on_texts(X_train)\n",
    "X_train_seq = tokenizer.texts_to_sequences(X_train)\n",
    "X_test_seq = tokenizer.texts_to_sequences(X_test)\n",
    "\n",
    "# Pad the sequences\n",
    "max_length = 100  # Adjust max_length as needed\n",
    "X_train_pad = pad_sequences(X_train_seq, maxlen=max_length)\n",
    "X_test_pad = pad_sequences(X_test_seq, maxlen=max_length)"
   ]
  },
  {
   "cell_type": "code",
   "execution_count": 13,
   "metadata": {},
   "outputs": [
    {
     "name": "stdout",
     "output_type": "stream",
     "text": [
      "Shape of training data: (19812, 100)\n",
      "Shape of test data: (4954, 100)\n"
     ]
    }
   ],
   "source": [
    "# Load GloVe embeddings\n",
    "def load_glove_embeddings(filepath, word_index, embedding_dim=100):\n",
    "    embeddings_index = {}\n",
    "    with open(filepath, 'r', encoding='utf8') as f:\n",
    "        for line in f:\n",
    "            values = line.split()\n",
    "            word = values[0]\n",
    "            coefs = np.asarray(values[1:], dtype='float32')\n",
    "            embeddings_index[word] = coefs\n",
    "\n",
    "    embedding_matrix = np.zeros((len(word_index) + 1, embedding_dim))\n",
    "    for word, i in word_index.items():\n",
    "        embedding_vector = embeddings_index.get(word)\n",
    "        if embedding_vector is not None:\n",
    "            embedding_matrix[i] = embedding_vector\n",
    "    return embedding_matrix\n",
    "\n",
    "embedding_dim = 100\n",
    "glove_filepath = 'C:\\\\group-1-main\\\\Model-Evaluvation\\\\DL_Models\\\\glove.6B.100d.txt'  # Update the path to your GloVe file\n",
    "embedding_matrix = load_glove_embeddings(glove_filepath, tokenizer.word_index, embedding_dim)\n",
    "\n",
    "print(\"Shape of training data:\", X_train_pad.shape)\n",
    "print(\"Shape of test data:\", X_test_pad.shape)"
   ]
  },
  {
   "cell_type": "code",
   "execution_count": 14,
   "metadata": {},
   "outputs": [],
   "source": [
    "# Custom layer to wrap tf.reduce_mean\n",
    "class ReduceMeanLayer(Layer):\n",
    "    def call(self, inputs):\n",
    "        return tf.reduce_mean(inputs, axis=1)"
   ]
  },
  {
   "cell_type": "code",
   "execution_count": 15,
   "metadata": {},
   "outputs": [
    {
     "name": "stderr",
     "output_type": "stream",
     "text": [
      "C:\\Users\\danie\\AppData\\Local\\Packages\\PythonSoftwareFoundation.Python.3.12_qbz5n2kfra8p0\\LocalCache\\local-packages\\Python312\\site-packages\\keras\\src\\layers\\core\\embedding.py:90: UserWarning: Argument `input_length` is deprecated. Just remove it.\n",
      "  warnings.warn(\n"
     ]
    }
   ],
   "source": [
    "# Define LSTM model with Attention\n",
    "def create_lstm_attention_model():\n",
    "    inputs = Input(shape=(max_length,))\n",
    "    embedding_layer = Embedding(input_dim=len(tokenizer.word_index) + 1,\n",
    "                                output_dim=embedding_dim,\n",
    "                                weights=[embedding_matrix],\n",
    "                                input_length=max_length,\n",
    "                                trainable=False)(inputs)\n",
    "    lstm_layer = LSTM(128, return_sequences=True)(embedding_layer)\n",
    "    attention_layer = Attention()([lstm_layer, lstm_layer])\n",
    "    attention_output = ReduceMeanLayer()(attention_layer)\n",
    "    dense_layer = Dense(64, activation='relu')(attention_output)\n",
    "    dropout_layer = Dropout(0.5)(dense_layer)\n",
    "    outputs = Dense(2, activation='softmax')(dropout_layer)\n",
    "    model = Model(inputs=inputs, outputs=outputs)\n",
    "    model.compile(optimizer='adam', loss='sparse_categorical_crossentropy', metrics=['accuracy'])\n",
    "    return model\n",
    "\n",
    "# Create the model\n",
    "lstm_attention_model = create_lstm_attention_model()"
   ]
  },
  {
   "cell_type": "code",
   "execution_count": 16,
   "metadata": {},
   "outputs": [],
   "source": [
    "# Early stopping and model checkpointing\n",
    "early_stopping = EarlyStopping(monitor='val_loss', min_delta=0.001, patience=5, restore_best_weights=True)\n",
    "checkpoint_filepath = 'best_lstm_model_checkpoint.keras'\n",
    "model_checkpoint = ModelCheckpoint(filepath=checkpoint_filepath, save_best_only=True, monitor='val_loss', mode='min')"
   ]
  },
  {
   "cell_type": "code",
   "execution_count": 17,
   "metadata": {},
   "outputs": [
    {
     "name": "stdout",
     "output_type": "stream",
     "text": [
      "Epoch 1/20\n",
      "496/496 - 37s - 74ms/step - accuracy: 0.8917 - loss: 0.2415 - val_accuracy: 0.9142 - val_loss: 0.1760\n",
      "Epoch 2/20\n",
      "496/496 - 35s - 71ms/step - accuracy: 0.9202 - loss: 0.1649 - val_accuracy: 0.9215 - val_loss: 0.1713\n",
      "Epoch 3/20\n",
      "496/496 - 34s - 68ms/step - accuracy: 0.9280 - loss: 0.1528 - val_accuracy: 0.9266 - val_loss: 0.1642\n",
      "Epoch 4/20\n",
      "496/496 - 34s - 69ms/step - accuracy: 0.9339 - loss: 0.1420 - val_accuracy: 0.9326 - val_loss: 0.1576\n",
      "Epoch 5/20\n",
      "496/496 - 35s - 70ms/step - accuracy: 0.9399 - loss: 0.1339 - val_accuracy: 0.9299 - val_loss: 0.1659\n",
      "Epoch 6/20\n",
      "496/496 - 34s - 68ms/step - accuracy: 0.9404 - loss: 0.1272 - val_accuracy: 0.9349 - val_loss: 0.1633\n",
      "Epoch 7/20\n",
      "496/496 - 35s - 70ms/step - accuracy: 0.9462 - loss: 0.1164 - val_accuracy: 0.9341 - val_loss: 0.1573\n",
      "Epoch 8/20\n",
      "496/496 - 33s - 67ms/step - accuracy: 0.9519 - loss: 0.1087 - val_accuracy: 0.9293 - val_loss: 0.1800\n",
      "Epoch 9/20\n",
      "496/496 - 35s - 70ms/step - accuracy: 0.9570 - loss: 0.0981 - val_accuracy: 0.9301 - val_loss: 0.1778\n"
     ]
    }
   ],
   "source": [
    "# Train the model\n",
    "history = lstm_attention_model.fit(X_train_pad, y_train, validation_split=0.2, epochs=20, batch_size=32, callbacks=[early_stopping, model_checkpoint], verbose=2)\n"
   ]
  },
  {
   "cell_type": "code",
   "execution_count": 18,
   "metadata": {},
   "outputs": [
    {
     "name": "stdout",
     "output_type": "stream",
     "text": [
      "\u001b[1m155/155\u001b[0m \u001b[32m━━━━━━━━━━━━━━━━━━━━\u001b[0m\u001b[37m\u001b[0m \u001b[1m4s\u001b[0m 25ms/step\n",
      "Accuracy: 0.9269277351635042\n",
      "F1 Score: 0.9262851762002624\n",
      "Classification Report:\n",
      "                 precision    recall  f1-score   support\n",
      "\n",
      "    Hate Speech     0.9514    0.9603    0.9558      4080\n",
      "Non-Hate Speech     0.8062    0.7712    0.7883       874\n",
      "\n",
      "       accuracy                         0.9269      4954\n",
      "      macro avg     0.8788    0.8657    0.8721      4954\n",
      "   weighted avg     0.9258    0.9269    0.9263      4954\n",
      "\n"
     ]
    }
   ],
   "source": [
    "# Evaluate the model\n",
    "y_pred = np.argmax(lstm_attention_model.predict(X_test_pad), axis=1)\n",
    "accuracy = accuracy_score(y_test, y_pred)\n",
    "f1 = f1_score(y_test, y_pred, average='weighted')\n",
    "report = classification_report(y_test, y_pred, target_names=['Hate Speech', 'Non-Hate Speech'], digits=4)\n",
    "\n",
    "# Print accuracy, F1 score, and classification report\n",
    "print(f\"Accuracy: {accuracy}\")\n",
    "print(f\"F1 Score: {f1}\")\n",
    "print(f\"Classification Report:\\n{report}\")"
   ]
  },
  {
   "cell_type": "code",
   "execution_count": 19,
   "metadata": {},
   "outputs": [
    {
     "name": "stdout",
     "output_type": "stream",
     "text": [
      "Model saved to best_lstm_model.keras\n"
     ]
    }
   ],
   "source": [
    "# Save the model\n",
    "model_save_path = 'best_lstm_model.keras'\n",
    "lstm_attention_model.save(model_save_path)\n",
    "print(f\"Model saved to {model_save_path}\")"
   ]
  }
 ],
 "metadata": {
  "kernelspec": {
   "display_name": "Python 3",
   "language": "python",
   "name": "python3"
  },
  "language_info": {
   "codemirror_mode": {
    "name": "ipython",
    "version": 3
   },
   "file_extension": ".py",
   "mimetype": "text/x-python",
   "name": "python",
   "nbconvert_exporter": "python",
   "pygments_lexer": "ipython3",
   "version": "3.12.4"
  }
 },
 "nbformat": 4,
 "nbformat_minor": 2
}
