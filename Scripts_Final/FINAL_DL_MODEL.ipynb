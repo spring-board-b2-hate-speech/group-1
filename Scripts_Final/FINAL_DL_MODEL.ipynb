{
 "cells": [
  {
   "cell_type": "markdown",
   "metadata": {},
   "source": [
    "# DEEP LEARNING MODEL"
   ]
  },
  {
   "cell_type": "markdown",
   "metadata": {},
   "source": [
    "### Import Libraries"
   ]
  },
  {
   "cell_type": "code",
   "execution_count": 170,
   "metadata": {},
   "outputs": [],
   "source": [
    "import pandas as pd\n",
    "import nltk\n",
    "import string\n",
    "import re\n",
    "import seaborn as sns\n",
    "import matplotlib.pyplot as plt\n",
    "from nltk.corpus import stopwords\n",
    "from nltk.stem import WordNetLemmatizer\n",
    "from sklearn.model_selection import train_test_split\n",
    "from tensorflow.keras.preprocessing.text import Tokenizer\n",
    "from tensorflow.keras.preprocessing.sequence import pad_sequences\n",
    "from tensorflow.keras.layers import Embedding, LSTM, Dense, Dropout, Input, Layer\n",
    "from tensorflow.keras.models import Model\n",
    "from tensorflow.keras.callbacks import EarlyStopping, ModelCheckpoint\n",
    "from sklearn.metrics import accuracy_score, f1_score, classification_report, confusion_matrix\n",
    "import tensorflow as tf\n",
    "import numpy as np"
   ]
  },
  {
   "cell_type": "code",
   "execution_count": 142,
   "metadata": {},
   "outputs": [
    {
     "name": "stderr",
     "output_type": "stream",
     "text": [
      "[nltk_data] Downloading package stopwords to\n",
      "[nltk_data]     C:\\Users\\danie\\AppData\\Roaming\\nltk_data...\n",
      "[nltk_data]   Package stopwords is already up-to-date!\n",
      "[nltk_data] Downloading package omw-1.4 to\n",
      "[nltk_data]     C:\\Users\\danie\\AppData\\Roaming\\nltk_data...\n",
      "[nltk_data]   Package omw-1.4 is already up-to-date!\n",
      "[nltk_data] Downloading package wordnet to\n",
      "[nltk_data]     C:\\Users\\danie\\AppData\\Roaming\\nltk_data...\n",
      "[nltk_data]   Package wordnet is already up-to-date!\n"
     ]
    },
    {
     "data": {
      "text/plain": [
       "True"
      ]
     },
     "execution_count": 142,
     "metadata": {},
     "output_type": "execute_result"
    }
   ],
   "source": [
    "# Download NLTK Data\n",
    "nltk.download('stopwords')\n",
    "nltk.download('omw-1.4')\n",
    "nltk.download('wordnet')\n"
   ]
  },
  {
   "cell_type": "markdown",
   "metadata": {},
   "source": [
    "### Loading the dataset"
   ]
  },
  {
   "cell_type": "code",
   "execution_count": 143,
   "metadata": {},
   "outputs": [
    {
     "data": {
      "text/plain": [
       "(24783, 7)"
      ]
     },
     "execution_count": 143,
     "metadata": {},
     "output_type": "execute_result"
    }
   ],
   "source": [
    "df = pd.read_csv('labeled_data.csv')\n",
    "df.shape"
   ]
  },
  {
   "cell_type": "markdown",
   "metadata": {},
   "source": [
    "### Remove Usernames"
   ]
  },
  {
   "cell_type": "code",
   "execution_count": 144,
   "metadata": {},
   "outputs": [
    {
     "data": {
      "text/html": [
       "<div>\n",
       "<style scoped>\n",
       "    .dataframe tbody tr th:only-of-type {\n",
       "        vertical-align: middle;\n",
       "    }\n",
       "\n",
       "    .dataframe tbody tr th {\n",
       "        vertical-align: top;\n",
       "    }\n",
       "\n",
       "    .dataframe thead th {\n",
       "        text-align: right;\n",
       "    }\n",
       "</style>\n",
       "<table border=\"1\" class=\"dataframe\">\n",
       "  <thead>\n",
       "    <tr style=\"text-align: right;\">\n",
       "      <th></th>\n",
       "      <th>Unnamed: 0</th>\n",
       "      <th>count</th>\n",
       "      <th>hate_speech</th>\n",
       "      <th>offensive_language</th>\n",
       "      <th>neither</th>\n",
       "      <th>class</th>\n",
       "      <th>tweet</th>\n",
       "    </tr>\n",
       "  </thead>\n",
       "  <tbody>\n",
       "    <tr>\n",
       "      <th>0</th>\n",
       "      <td>0</td>\n",
       "      <td>3</td>\n",
       "      <td>0</td>\n",
       "      <td>0</td>\n",
       "      <td>3</td>\n",
       "      <td>2</td>\n",
       "      <td>!!! RT : As a woman you shouldn't complain abo...</td>\n",
       "    </tr>\n",
       "    <tr>\n",
       "      <th>1</th>\n",
       "      <td>1</td>\n",
       "      <td>3</td>\n",
       "      <td>0</td>\n",
       "      <td>3</td>\n",
       "      <td>0</td>\n",
       "      <td>1</td>\n",
       "      <td>!!!!! RT : boy dats cold...tyga dwn bad for cu...</td>\n",
       "    </tr>\n",
       "    <tr>\n",
       "      <th>2</th>\n",
       "      <td>2</td>\n",
       "      <td>3</td>\n",
       "      <td>0</td>\n",
       "      <td>3</td>\n",
       "      <td>0</td>\n",
       "      <td>1</td>\n",
       "      <td>!!!!!!! RT  Dawg!!!! RT : You ever fuck a bitc...</td>\n",
       "    </tr>\n",
       "    <tr>\n",
       "      <th>3</th>\n",
       "      <td>3</td>\n",
       "      <td>3</td>\n",
       "      <td>0</td>\n",
       "      <td>2</td>\n",
       "      <td>1</td>\n",
       "      <td>1</td>\n",
       "      <td>!!!!!!!!! RT :  she look like a tranny</td>\n",
       "    </tr>\n",
       "    <tr>\n",
       "      <th>4</th>\n",
       "      <td>4</td>\n",
       "      <td>6</td>\n",
       "      <td>0</td>\n",
       "      <td>6</td>\n",
       "      <td>0</td>\n",
       "      <td>1</td>\n",
       "      <td>!!!!!!!!!!!!! RT : The shit you hear about me ...</td>\n",
       "    </tr>\n",
       "  </tbody>\n",
       "</table>\n",
       "</div>"
      ],
      "text/plain": [
       "   Unnamed: 0  count  hate_speech  offensive_language  neither  class  \\\n",
       "0           0      3            0                   0        3      2   \n",
       "1           1      3            0                   3        0      1   \n",
       "2           2      3            0                   3        0      1   \n",
       "3           3      3            0                   2        1      1   \n",
       "4           4      6            0                   6        0      1   \n",
       "\n",
       "                                               tweet  \n",
       "0  !!! RT : As a woman you shouldn't complain abo...  \n",
       "1  !!!!! RT : boy dats cold...tyga dwn bad for cu...  \n",
       "2  !!!!!!! RT  Dawg!!!! RT : You ever fuck a bitc...  \n",
       "3             !!!!!!!!! RT :  she look like a tranny  \n",
       "4  !!!!!!!!!!!!! RT : The shit you hear about me ...  "
      ]
     },
     "execution_count": 144,
     "metadata": {},
     "output_type": "execute_result"
    }
   ],
   "source": [
    "def remove_usernames(tweet):\n",
    "    return re.sub(r'@\\w+', '', tweet)\n",
    "df['tweet'] = df['tweet'].apply(remove_usernames)\n",
    "df.head()"
   ]
  },
  {
   "cell_type": "markdown",
   "metadata": {},
   "source": [
    "### Remove Sequence"
   ]
  },
  {
   "cell_type": "code",
   "execution_count": 145,
   "metadata": {},
   "outputs": [
    {
     "data": {
      "text/html": [
       "<div>\n",
       "<style scoped>\n",
       "    .dataframe tbody tr th:only-of-type {\n",
       "        vertical-align: middle;\n",
       "    }\n",
       "\n",
       "    .dataframe tbody tr th {\n",
       "        vertical-align: top;\n",
       "    }\n",
       "\n",
       "    .dataframe thead th {\n",
       "        text-align: right;\n",
       "    }\n",
       "</style>\n",
       "<table border=\"1\" class=\"dataframe\">\n",
       "  <thead>\n",
       "    <tr style=\"text-align: right;\">\n",
       "      <th></th>\n",
       "      <th>Unnamed: 0</th>\n",
       "      <th>count</th>\n",
       "      <th>hate_speech</th>\n",
       "      <th>offensive_language</th>\n",
       "      <th>neither</th>\n",
       "      <th>class</th>\n",
       "      <th>tweet</th>\n",
       "    </tr>\n",
       "  </thead>\n",
       "  <tbody>\n",
       "    <tr>\n",
       "      <th>0</th>\n",
       "      <td>0</td>\n",
       "      <td>3</td>\n",
       "      <td>0</td>\n",
       "      <td>0</td>\n",
       "      <td>3</td>\n",
       "      <td>2</td>\n",
       "      <td>!!! RT : As a woman you shouldn't complain abo...</td>\n",
       "    </tr>\n",
       "    <tr>\n",
       "      <th>1</th>\n",
       "      <td>1</td>\n",
       "      <td>3</td>\n",
       "      <td>0</td>\n",
       "      <td>3</td>\n",
       "      <td>0</td>\n",
       "      <td>1</td>\n",
       "      <td>!!!!! RT : boy dats cold...tyga dwn bad for cu...</td>\n",
       "    </tr>\n",
       "    <tr>\n",
       "      <th>2</th>\n",
       "      <td>2</td>\n",
       "      <td>3</td>\n",
       "      <td>0</td>\n",
       "      <td>3</td>\n",
       "      <td>0</td>\n",
       "      <td>1</td>\n",
       "      <td>!!!!!!! RT  Dawg!!!! RT : You ever fuck a bitc...</td>\n",
       "    </tr>\n",
       "    <tr>\n",
       "      <th>3</th>\n",
       "      <td>3</td>\n",
       "      <td>3</td>\n",
       "      <td>0</td>\n",
       "      <td>2</td>\n",
       "      <td>1</td>\n",
       "      <td>1</td>\n",
       "      <td>!!!!!!!!! RT :  she look like a tranny</td>\n",
       "    </tr>\n",
       "    <tr>\n",
       "      <th>4</th>\n",
       "      <td>4</td>\n",
       "      <td>6</td>\n",
       "      <td>0</td>\n",
       "      <td>6</td>\n",
       "      <td>0</td>\n",
       "      <td>1</td>\n",
       "      <td>!!!!!!!!!!!!! RT : The shit you hear about me ...</td>\n",
       "    </tr>\n",
       "  </tbody>\n",
       "</table>\n",
       "</div>"
      ],
      "text/plain": [
       "   Unnamed: 0  count  hate_speech  offensive_language  neither  class  \\\n",
       "0           0      3            0                   0        3      2   \n",
       "1           1      3            0                   3        0      1   \n",
       "2           2      3            0                   3        0      1   \n",
       "3           3      3            0                   2        1      1   \n",
       "4           4      6            0                   6        0      1   \n",
       "\n",
       "                                               tweet  \n",
       "0  !!! RT : As a woman you shouldn't complain abo...  \n",
       "1  !!!!! RT : boy dats cold...tyga dwn bad for cu...  \n",
       "2  !!!!!!! RT  Dawg!!!! RT : You ever fuck a bitc...  \n",
       "3             !!!!!!!!! RT :  she look like a tranny  \n",
       "4  !!!!!!!!!!!!! RT : The shit you hear about me ...  "
      ]
     },
     "execution_count": 145,
     "metadata": {},
     "output_type": "execute_result"
    }
   ],
   "source": [
    "def remove_sequence(tweet):\n",
    "    return re.sub(r'\\b\\d+\\b', '', tweet)\n",
    "\n",
    "df['tweet'] = df['tweet'].apply(remove_sequence)\n",
    "df.head()"
   ]
  },
  {
   "cell_type": "markdown",
   "metadata": {},
   "source": [
    "### Remove URLS"
   ]
  },
  {
   "cell_type": "code",
   "execution_count": 146,
   "metadata": {},
   "outputs": [],
   "source": [
    "def remove_urls(tweet):\n",
    "    return re.sub(r'http\\S+|www\\S+|https\\S+|@\\w+|#\\w+', '', tweet, flags=re.MULTILINE)\n",
    "\n",
    "df['tweet'] = df['tweet'].apply(remove_urls)\n",
    "df['tweet'] = df['tweet'].str.lower()"
   ]
  },
  {
   "cell_type": "markdown",
   "metadata": {},
   "source": [
    "### Remove Punctuations"
   ]
  },
  {
   "cell_type": "code",
   "execution_count": 147,
   "metadata": {},
   "outputs": [
    {
     "data": {
      "text/html": [
       "<div>\n",
       "<style scoped>\n",
       "    .dataframe tbody tr th:only-of-type {\n",
       "        vertical-align: middle;\n",
       "    }\n",
       "\n",
       "    .dataframe tbody tr th {\n",
       "        vertical-align: top;\n",
       "    }\n",
       "\n",
       "    .dataframe thead th {\n",
       "        text-align: right;\n",
       "    }\n",
       "</style>\n",
       "<table border=\"1\" class=\"dataframe\">\n",
       "  <thead>\n",
       "    <tr style=\"text-align: right;\">\n",
       "      <th></th>\n",
       "      <th>Unnamed: 0</th>\n",
       "      <th>count</th>\n",
       "      <th>hate_speech</th>\n",
       "      <th>offensive_language</th>\n",
       "      <th>neither</th>\n",
       "      <th>class</th>\n",
       "      <th>tweet</th>\n",
       "    </tr>\n",
       "  </thead>\n",
       "  <tbody>\n",
       "    <tr>\n",
       "      <th>0</th>\n",
       "      <td>0</td>\n",
       "      <td>3</td>\n",
       "      <td>0</td>\n",
       "      <td>0</td>\n",
       "      <td>3</td>\n",
       "      <td>2</td>\n",
       "      <td>rt  as a woman you shouldnt complain about cl...</td>\n",
       "    </tr>\n",
       "    <tr>\n",
       "      <th>1</th>\n",
       "      <td>1</td>\n",
       "      <td>3</td>\n",
       "      <td>0</td>\n",
       "      <td>3</td>\n",
       "      <td>0</td>\n",
       "      <td>1</td>\n",
       "      <td>rt  boy dats coldtyga dwn bad for cuffin dat ...</td>\n",
       "    </tr>\n",
       "    <tr>\n",
       "      <th>2</th>\n",
       "      <td>2</td>\n",
       "      <td>3</td>\n",
       "      <td>0</td>\n",
       "      <td>3</td>\n",
       "      <td>0</td>\n",
       "      <td>1</td>\n",
       "      <td>rt  dawg rt  you ever fuck a bitch and she st...</td>\n",
       "    </tr>\n",
       "    <tr>\n",
       "      <th>3</th>\n",
       "      <td>3</td>\n",
       "      <td>3</td>\n",
       "      <td>0</td>\n",
       "      <td>2</td>\n",
       "      <td>1</td>\n",
       "      <td>1</td>\n",
       "      <td>rt   she look like a tranny</td>\n",
       "    </tr>\n",
       "    <tr>\n",
       "      <th>4</th>\n",
       "      <td>4</td>\n",
       "      <td>6</td>\n",
       "      <td>0</td>\n",
       "      <td>6</td>\n",
       "      <td>0</td>\n",
       "      <td>1</td>\n",
       "      <td>rt  the shit you hear about me might be true ...</td>\n",
       "    </tr>\n",
       "  </tbody>\n",
       "</table>\n",
       "</div>"
      ],
      "text/plain": [
       "   Unnamed: 0  count  hate_speech  offensive_language  neither  class  \\\n",
       "0           0      3            0                   0        3      2   \n",
       "1           1      3            0                   3        0      1   \n",
       "2           2      3            0                   3        0      1   \n",
       "3           3      3            0                   2        1      1   \n",
       "4           4      6            0                   6        0      1   \n",
       "\n",
       "                                               tweet  \n",
       "0   rt  as a woman you shouldnt complain about cl...  \n",
       "1   rt  boy dats coldtyga dwn bad for cuffin dat ...  \n",
       "2   rt  dawg rt  you ever fuck a bitch and she st...  \n",
       "3                        rt   she look like a tranny  \n",
       "4   rt  the shit you hear about me might be true ...  "
      ]
     },
     "execution_count": 147,
     "metadata": {},
     "output_type": "execute_result"
    }
   ],
   "source": [
    "punctuations_list = string.punctuation\n",
    "def remove_punctuations(text):\n",
    "    temp = str.maketrans('', '', punctuations_list)\n",
    "    return text.translate(temp)\n",
    "\n",
    "df['tweet'] = df['tweet'].apply(lambda x: remove_punctuations(x))\n",
    "df.head()\n"
   ]
  },
  {
   "cell_type": "markdown",
   "metadata": {},
   "source": [
    "### Managing Abbrevations"
   ]
  },
  {
   "cell_type": "code",
   "execution_count": 148,
   "metadata": {},
   "outputs": [],
   "source": [
    "\n",
    "def replace_words(tweet, abbreviations_dict):\n",
    "    pattern = re.compile(r'\\b(' + '|'.join(re.escape(key) for key in abbreviations_dict.keys()) + r')\\b')\n",
    "    return pattern.sub(lambda x: abbreviations_dict[x.group()], tweet)"
   ]
  },
  {
   "cell_type": "code",
   "execution_count": 149,
   "metadata": {},
   "outputs": [],
   "source": [
    "abbreviations_dict = {\n",
    "    \"dr\": \"doctor\",\n",
    "    \"mr\": \"mister\",\n",
    "    \"mrs\": \"mistress\",\n",
    "    \"ms\": \"miss\",\n",
    "    \"prof\": \"professor\",\n",
    "    \"st\": \"saint\",\n",
    "    \"sr\": \"senior\",\n",
    "    \"jr\": \"junior\",\n",
    "    \"lt\": \"lieutenant\",\n",
    "    \"col\": \"colonel\",\n",
    "    \"gen\": \"general\",\n",
    "    \"rev\": \"reverend\",\n",
    "    \"hon\": \"honorable\",\n",
    "    \"lol\": \"laughing out loud\",\n",
    "    \"idk\": \"i do not know\",\n",
    "    \"tbh\": \"to be honest\",\n",
    "    \"imo\": \"in my opinion\",\n",
    "    \"btw\": \"by the way\",\n",
    "    \"omg\": \"oh my god\",\n",
    "    \"brb\": \"be right back\",\n",
    "    \"ttyl\": \"talk to you later\",\n",
    "    \"fr\": \"for real\",\n",
    "    \"u\": \"you\",\n",
    "    \"dat\": \"that\",\n",
    "    \"smh\": \"shake my head\",\n",
    "    \"txt\": \"text\",\n",
    "    \"ima\": \"i am going to\",\n",
    "    \"youll\": \"you all\",\n",
    "    \"lmfao\": \"laugh my fucking ass off\",\n",
    "    \"amp\": \"and\",\n",
    "    \"def\": \"definitely\",\n",
    "    \"lmao\": \"laugh my ass off\",\n",
    "    \"ig\": \"instagram\",\n",
    "    \"im\": \"i am\",\n",
    "    \"id\": \"identification\",\n",
    "    \"ur\": \"your\",\n",
    "    \"ppl\": \"people\",\n",
    "    \"jus\": \"just\",\n",
    "    \"dwn\": \"down\",\n",
    "    \"idc\": \"i do not care\",\n",
    "    \"wcw\": \"woman crush wednesday\",\n",
    "    \"smfh\": \"shaking my fucking head\",\n",
    "    \"tf\": \"the fuck\",\n",
    "    \"foh\": \"fuck outta here\",\n",
    "    \"iguess\": \"i guess\",\n",
    "    \"gtfo\": \"get the fuck out\",\n",
    "    \"omfg\": \"oh my fucking god\",\n",
    "    \"ucf\": \"university of central florida\",\n",
    "    \"rft\": \"roll field trash\",\n",
    "    \"lmfaoooo\": \"laughing my fucking ass off\",\n",
    "    \"af\": \"as fuck\",\n",
    "    \"fohead\": \"forehead\",\n",
    "    \"gtgtgt\": \"got to go to get\",\n",
    "    \"scally\": \"british slang for a young working-class person\",\n",
    "    \"mtvhottest\": \"mtvs hottest\",\n",
    "    \"lmaoo\": \"laughing my ass off\",\n",
    "    \"bc\": \"because\",\n",
    "    \"dm\": \"direct message\",\n",
    "    \"dmv\": \"department of motor vehicles\",\n",
    "    \"fb\": \"facebook\",\n",
    "    \"gf\": \"girlfriend\",\n",
    "    \"gt\": \"got\",\n",
    "    \"lmmfao\": \"laughing my motherfucking ass off\",\n",
    "    \"plz\": \"please\",\n",
    "    \"tho\": \"though\",\n",
    "    \"wtf\": \"what the fuck\",\n",
    "    \"ya\": \"you\",\n",
    "    \"mr\": \"mister\",\n",
    "    \"frfr\": \"for real for real\",\n",
    "    \"rn\": \"right now\",\n",
    "    \"asap\": \"as soon as possible\",\n",
    "    \"finna\": \"fixing to (going to)\",\n",
    "    \"yall\": \"you all\",\n",
    "    \"stfu\": \"shut the fuck up\",\n",
    "    \"kikis\": \"a fun gathering\",\n",
    "    \"ummmmm\": \"an exclamation (informal)\",\n",
    "    \"ymxb\": \"a mathematical equation format\",\n",
    "    \"kno\": \"know\",\n",
    "    \"bby\": \"baby\",\n",
    "    \"cc\": \"community college or carbon copy\",\n",
    "    \"woof woof\": \"a playful expression, mimicking a dog s bark\",\n",
    "    \"bae\": \"before anyone else\",\n",
    "    \"oomf\": \"one of my followers (on social media)\",\n",
    "    \"wop\": \"a racial slur or a dance move\",\n",
    "    \"yo\": \"your\",\n",
    "    \"atm\": \"at the moment\",\n",
    "    \"nfl\": \"national football league\",\n",
    "    \"4ao\": \"for adults only\",\n",
    "    \"am\": \"before midday\",\n",
    "    \"a3\": \"anytime anywhere anyplace\",\n",
    "    \"aamof\": \"as a matter of fact\",\n",
    "    \"acct\": \"account\",\n",
    "    \"adih\": \"another day in hell\",\n",
    "    \"afaic\": \"as far as i am concerned\",\n",
    "    \"afaict\": \"as far as i can tell\",\n",
    "    \"afaik\": \"as far as i know\",\n",
    "    \"afair\": \"as far as i remember\",\n",
    "    \"afk\": \"away from keyboard\",\n",
    "    \"app\": \"application\",\n",
    "    \"approx\": \"approximately\",\n",
    "    \"apps\": \"applications\",\n",
    "    \"asl\": \"age, sex, location\",\n",
    "    \"atk\": \"at the keyboard\",\n",
    "    \"ny\" :\"not yet\",\n",
    "    \"lmaooooooooooo\": \"lauhing my ass out\",\n",
    "    \"ave\": \"avenue\",\n",
    "    \"aymm\": \"are you my mother\",\n",
    "    \"ayor\": \"at your own risk\",\n",
    "    \"b&b\": \"bed and breakfast\",\n",
    "    \"b+b\": \"bed and breakfast\",\n",
    "    \"bc\": \"before christ\",\n",
    "    \"b2b\": \"business to business\",\n",
    "    \"b2c\": \"business to customer\",\n",
    "    \"b4\": \"before\",\n",
    "    \"b4n\": \"bye for now\",\n",
    "    \"b@u\": \"back at you\",\n",
    "    \"bak\": \"back at keyboard\",\n",
    "    \"bbbg\": \"bye bye be good\",\n",
    "    \"bbc\": \"british broadcasting corporation\",\n",
    "    \"bbias\": \"be back in a second\",\n",
    "    \"bbl\": \"be back later\",\n",
    "    \"bbs\": \"be back soon\",\n",
    "    \"be4\": \"before\",\n",
    "    \"bfn\": \"bye for now\",\n",
    "    \"blvd\": \"boulevard\",\n",
    "    \"bout\": \"about\",\n",
    "    \"bros\": \"brothers\",\n",
    "    \"brt\": \"be right there\",\n",
    "    \"bsaaw\": \"big smile and a wink\",\n",
    "    \"bwl\": \"bursting with laughter\",\n",
    "    \"c/o\": \"care of\",\n",
    "    \"cet\": \"central european time\",\n",
    "    \"cf\": \"compare\",\n",
    "    \"cia\": \"central intelligence agency\",\n",
    "    \"csl\": \"can not stop laughing\",\n",
    "    \"cu\": \"see you\",\n",
    "    \"cul8r\": \"see you later\",\n",
    "    \"cv\": \"curriculum vitae\",\n",
    "    \"cwot\": \"complete waste of time\",\n",
    "    \"cya\": \"see you\",\n",
    "    \"cyt\": \"see you tomorrow\",\n",
    "    \"dae\": \"does anyone else\",\n",
    "    \"dbmib\": \"do not bother me i am busy\",\n",
    "    \"dats\":\"that is\",\n",
    "    \"dawg\":\"friend\",\n",
    "    \"diy\" : \"do it yourself\",\n",
    "    \"dwh\": \"during work hours\",\n",
    "    \"e123\": \"easy as one two three\",\n",
    "    \"eet\": \"eastern european time\",\n",
    "    \"eg\": \"example\",\n",
    "    \"embm\": \"early morning business meeting\",\n",
    "    \"encl\": \"enclosed\",\n",
    "    \"encl\": \"enclosed\",\n",
    "    \"etc\": \"and so on\",\n",
    "    \"faq\": \"frequently asked questions\",\n",
    "    \"fawc\": \"for anyone who cares\",\n",
    "    \"fc\": \"fingers crossed\",\n",
    "    \"fig\": \"figure\",\n",
    "    \"fimh\": \"forever in my heart\",\n",
    "    \"ft\": \"feet\",\n",
    "    \"ft\": \"featuring\",\n",
    "    \"ftl\": \"for the loss\",\n",
    "    \"ftw\": \"for the win\",\n",
    "    \"fwiw\": \"for what it is worth\",\n",
    "    \"fyi\": \"for your information\",\n",
    "    \"g9\": \"genius\",\n",
    "    \"gahoy\": \"get a hold of yourself\",\n",
    "    \"gal\": \"get a life\",\n",
    "    \"gcse\": \"general certificate of secondary education\",\n",
    "    \"gfn\": \"gone for now\",\n",
    "    \"gg\": \"good game\",\n",
    "    \"gl\": \"good luck\",\n",
    "    \"glhf\": \"good luck have fun\",\n",
    "    \"gmt\": \"greenwich mean time\",\n",
    "    \"gmta\": \"great minds think alike\",\n",
    "    \"gn\": \"good night\",\n",
    "    \"goat\": \"greatest of all time\",\n",
    "    \"goat\": \"greatest of all time\",\n",
    "    \"goi\": \"get over it\",\n",
    "    \"gps\": \"global positioning system\",\n",
    "    \"gr8\": \"great\",\n",
    "    \"gratz\": \"congratulations\",\n",
    "    \"gyal\": \"girl\",\n",
    "    \"h&c\": \"hot and cold\",\n",
    "    \"hp\": \"horsepower\",\n",
    "    \"hr\": \"hour\",\n",
    "    \"hrh\": \"his royal highness\",\n",
    "    \"ht\": \"height\",\n",
    "    \"ibrb\": \"i will be right back\",\n",
    "    \"ic\": \"i see\",\n",
    "    \"icq\": \"i seek you\",\n",
    "    \"icymi\": \"in case you missed it\",\n",
    "    \"idgadf\": \"i do not give a damn fuck\",\n",
    "    \"idgaf\": \"i do not give a fuck\",\n",
    "    \"ie\": \"that is\",\n",
    "    \"ie\": \"that is\",\n",
    "    \"ifyp\": \"i feel your pain\",\n",
    "    \"ig\": \"instagram\",\n",
    "    \"iirc\": \"if i remember correctly\",\n",
    "    \"ilu\": \"i love you\",\n",
    "    \"ily\": \"i love you\",\n",
    "    \"imho\": \"in my humble opinion\",\n",
    "    \"imu\": \"i miss you\",\n",
    "    \"iow\": \"in other words\",\n",
    "    \"irl\": \"in real life\",\n",
    "    \"j4f\": \"just for fun\",\n",
    "    \"jic\": \"just in case\",\n",
    "    \"jk\": \"just kidding\",\n",
    "    \"jsyk\": \"just so you know\",\n",
    "    \"l8r\": \"later\",\n",
    "    \"lb\": \"pound\",\n",
    "    \"lbs\": \"pounds\",\n",
    "    \"ldr\": \"long distance relationship\",\n",
    "    \"ltd\": \"limited\",\n",
    "    \"ltns\": \"long time no see\",\n",
    "    \"m8\": \"mate\",\n",
    "    \"mf\": \"motherfucker\",\n",
    "    \"mfs\": \"motherfuckers\",\n",
    "    \"mfw\": \"my face when\",\n",
    "    \"mofo\": \"motherfucker\",\n",
    "    \"mph\": \"miles per hour\",\n",
    "    \"mrw\": \"my reaction when\",\n",
    "    \"ms\": \"miss\",\n",
    "    \"mte\": \"my thoughts exactly\",\n",
    "    \"nagi\": \"not a good idea\",\n",
    "    \"nbc\": \"national broadcasting company\",\n",
    "    \"nbd\": \"not big deal\",\n",
    "    \"nfs\": \"not for sale\",\n",
    "    \"ngl\": \"not going to lie\",\n",
    "    \"nhs\": \"national health service\",\n",
    "    \"nrn\": \"no reply necessary\",\n",
    "    \"nsfl\": \"not safe for life\",\n",
    "    \"nsfw\": \"not safe for work\",\n",
    "    \"nth\": \"nice to have\",\n",
    "    \"nvr\": \"never\",\n",
    "    \"nyc\": \"new york city\",\n",
    "    \"oc\": \"original content\",\n",
    "    \"og\": \"original\",\n",
    "    \"ohp\": \"overhead projector\",\n",
    "    \"oic\": \"oh i see\",\n",
    "    \"omdb\": \"over my dead body\",\n",
    "    \"omw\": \"on my way\",\n",
    "    \"pa\": \"per annum\",\n",
    "    \"pm\": \"after midday\",\n",
    "    \"pm\": \"prime minister\",\n",
    "    \"poc\": \"people of color\",\n",
    "    \"pov\": \"point of view\",\n",
    "    \"pp\": \"pages\",\n",
    "    \"prw\": \"parents are watching\",\n",
    "    \"ps\": \"postscript\",\n",
    "    \"pt\": \"point\",\n",
    "    \"ptb\": \"please text back\",\n",
    "    \"pto\": \"please turn over\",\n",
    "    \"qpsa\": \"what happens\",\n",
    "    \"ratchet\": \"rude\",\n",
    "    \"rbtl\": \"read between the lines\",\n",
    "    \"rlrt\": \"real life retweet\",\n",
    "    \"rofl\": \"rolling on the floor laughing\",\n",
    "    \"roflol\": \"rolling on the floor laughing out loud\",\n",
    "    \"rotflmao\": \"rolling on the floor laughing my ass off\",\n",
    "    \"rt\": \"\",\n",
    "    \"ruok\": \"are you ok\",\n",
    "    \"sfw\": \"safe for work\",\n",
    "    \"sk8\": \"skate\",\n",
    "    \"sq\": \"square\",\n",
    "    \"srsly\": \"seriously\",\n",
    "    \"ssdd\": \"same stuff different day\",\n",
    "    \"tbs\": \"tablespooful\",\n",
    "    \"tbsp\": \"tablespooful\",\n",
    "    \"tfw\": \"that feeling when\",\n",
    "    \"thks\": \"thank you\",\n",
    "    \"thx\": \"thank you\",\n",
    "    \"tia\": \"thanks in advance\",\n",
    "    \"til\": \"today i learned\",\n",
    "    \"tl;dr\": \"too long i did not read\",\n",
    "    \"tldr\": \"too long i did not read\",\n",
    "    \"tmb\": \"tweet me back\",\n",
    "    \"tntl\": \"trying not to laugh\",\n",
    "    \"u2\": \"you too\",\n",
    "    \"u4e\": \"yours for ever\",\n",
    "    \"utc\": \"coordinated universal time\",\n",
    "    \"w/\": \"with\",\n",
    "    \"w/o\": \"without\",\n",
    "    \"w8\": \"wait\",\n",
    "    \"wassup\": \"what is up\",\n",
    "    \"wb\": \"welcome back\",\n",
    "    \"wtg\": \"way to go\",\n",
    "    \"wtpa\": \"where the party at\",\n",
    "    \"wuf\": \"where are you from\",\n",
    "    \"wuzup\": \"what is up\",\n",
    "    \"wywh\": \"wish you were here\",\n",
    "    \"yd\": \"yard\",\n",
    "    \"ygtr\": \"you got that right\",\n",
    "    \"ynk\": \"you never know\",\n",
    "    \"zzz\": \"sleeping bored and tired\",\n",
    "    \"amp\": \"and\",\n",
    "    \"aint\": \"am not\",\n",
    "    \"arent\": \"are not\",\n",
    "    \"cant\": \"cannot\",\n",
    "    \"couldnt\": \"could not\",\n",
    "    \"didnt\": \"did not\",\n",
    "    \"doesnt\": \"does not\",\n",
    "    \"dont\": \"do not\",\n",
    "    \"hadnt\": \"had not\",\n",
    "    \"hasnt\": \"has not\",\n",
    "    \"havent\": \"have not\",\n",
    "    \"hed\": \"he had\",\n",
    "    \"hell\": \"he will\",\n",
    "    \"hes\": \"he is\",\n",
    "    \"id\": \"i would\",\n",
    "    \"ill\": \"i will\",\n",
    "    \"im\": \"i am\",\n",
    "    \"ive\": \"i have\",\n",
    "    \"isnt\": \"is not\",\n",
    "    \"its\": \"it is\",\n",
    "    \"lets\": \"let us\",\n",
    "    \"mightnt\": \"might not\",\n",
    "    \"mustnt\": \"must not\",\n",
    "    \"shant\": \"shall not\",\n",
    "    \"shed\": \"she would\",\n",
    "    \"shell\": \"she will\",\n",
    "    \"shes\": \"she is\",\n",
    "    \"shouldnt\": \"should not\",\n",
    "    \"thats\": \"that is\",\n",
    "    \"theres\": \"there is\",\n",
    "    \"theyd\": \"they would\",\n",
    "    \"theyll\": \"they will\",\n",
    "    \"theyre\": \"they are\",\n",
    "    \"theyve\": \"they have\",\n",
    "    \"wed\": \"we had\",\n",
    "    \"well\": \"we will\",\n",
    "    \"were\": \"we are\",\n",
    "    \"weve\": \"we have\",\n",
    "    \"werent\": \"were not\",\n",
    "    \"whatll\": \"what will\",\n",
    "    \"whatre\": \"what are\",\n",
    "    \"whats\": \"what is\",\n",
    "    \"whatve\": \"what have\",\n",
    "    \"wheres\": \"where is\",\n",
    "    \"whod\": \"who would\",\n",
    "    \"wholl\": \"who will\",\n",
    "    \"whore\": \"who are\",\n",
    "    \"whos\": \"who is\",\n",
    "    \"whove\": \"who have\",\n",
    "    \"wont\": \"will not\",\n",
    "    \"wouldnt\": \"would not\",\n",
    "    \"youd\": \"you would\",\n",
    "    \"youll\": \"you will\",\n",
    "    \"youre\": \"you are\",\n",
    "    \"youve\": \"you have\"\n",
    "}"
   ]
  },
  {
   "cell_type": "code",
   "execution_count": 150,
   "metadata": {},
   "outputs": [
    {
     "data": {
      "text/html": [
       "<div>\n",
       "<style scoped>\n",
       "    .dataframe tbody tr th:only-of-type {\n",
       "        vertical-align: middle;\n",
       "    }\n",
       "\n",
       "    .dataframe tbody tr th {\n",
       "        vertical-align: top;\n",
       "    }\n",
       "\n",
       "    .dataframe thead th {\n",
       "        text-align: right;\n",
       "    }\n",
       "</style>\n",
       "<table border=\"1\" class=\"dataframe\">\n",
       "  <thead>\n",
       "    <tr style=\"text-align: right;\">\n",
       "      <th></th>\n",
       "      <th>Unnamed: 0</th>\n",
       "      <th>count</th>\n",
       "      <th>hate_speech</th>\n",
       "      <th>offensive_language</th>\n",
       "      <th>neither</th>\n",
       "      <th>class</th>\n",
       "      <th>tweet</th>\n",
       "    </tr>\n",
       "  </thead>\n",
       "  <tbody>\n",
       "    <tr>\n",
       "      <th>0</th>\n",
       "      <td>0</td>\n",
       "      <td>3</td>\n",
       "      <td>0</td>\n",
       "      <td>0</td>\n",
       "      <td>3</td>\n",
       "      <td>2</td>\n",
       "      <td>as a woman you should not complain about cl...</td>\n",
       "    </tr>\n",
       "    <tr>\n",
       "      <th>1</th>\n",
       "      <td>1</td>\n",
       "      <td>3</td>\n",
       "      <td>0</td>\n",
       "      <td>3</td>\n",
       "      <td>0</td>\n",
       "      <td>1</td>\n",
       "      <td>boy that is coldtyga down bad for cuffin th...</td>\n",
       "    </tr>\n",
       "    <tr>\n",
       "      <th>2</th>\n",
       "      <td>2</td>\n",
       "      <td>3</td>\n",
       "      <td>0</td>\n",
       "      <td>3</td>\n",
       "      <td>0</td>\n",
       "      <td>1</td>\n",
       "      <td>friend   you ever fuck a bitch and she star...</td>\n",
       "    </tr>\n",
       "    <tr>\n",
       "      <th>3</th>\n",
       "      <td>3</td>\n",
       "      <td>3</td>\n",
       "      <td>0</td>\n",
       "      <td>2</td>\n",
       "      <td>1</td>\n",
       "      <td>1</td>\n",
       "      <td>she look like a tranny</td>\n",
       "    </tr>\n",
       "    <tr>\n",
       "      <th>4</th>\n",
       "      <td>4</td>\n",
       "      <td>6</td>\n",
       "      <td>0</td>\n",
       "      <td>6</td>\n",
       "      <td>0</td>\n",
       "      <td>1</td>\n",
       "      <td>the shit you hear about me might be true or...</td>\n",
       "    </tr>\n",
       "  </tbody>\n",
       "</table>\n",
       "</div>"
      ],
      "text/plain": [
       "   Unnamed: 0  count  hate_speech  offensive_language  neither  class  \\\n",
       "0           0      3            0                   0        3      2   \n",
       "1           1      3            0                   3        0      1   \n",
       "2           2      3            0                   3        0      1   \n",
       "3           3      3            0                   2        1      1   \n",
       "4           4      6            0                   6        0      1   \n",
       "\n",
       "                                               tweet  \n",
       "0     as a woman you should not complain about cl...  \n",
       "1     boy that is coldtyga down bad for cuffin th...  \n",
       "2     friend   you ever fuck a bitch and she star...  \n",
       "3                             she look like a tranny  \n",
       "4     the shit you hear about me might be true or...  "
      ]
     },
     "execution_count": 150,
     "metadata": {},
     "output_type": "execute_result"
    }
   ],
   "source": [
    "df['tweet'] = df['tweet'].apply(lambda x: replace_words(x.lower(), abbreviations_dict))\n",
    "df.head()"
   ]
  },
  {
   "cell_type": "markdown",
   "metadata": {},
   "source": [
    "### Remove Stopwords"
   ]
  },
  {
   "cell_type": "code",
   "execution_count": 151,
   "metadata": {},
   "outputs": [
    {
     "data": {
      "text/html": [
       "<div>\n",
       "<style scoped>\n",
       "    .dataframe tbody tr th:only-of-type {\n",
       "        vertical-align: middle;\n",
       "    }\n",
       "\n",
       "    .dataframe tbody tr th {\n",
       "        vertical-align: top;\n",
       "    }\n",
       "\n",
       "    .dataframe thead th {\n",
       "        text-align: right;\n",
       "    }\n",
       "</style>\n",
       "<table border=\"1\" class=\"dataframe\">\n",
       "  <thead>\n",
       "    <tr style=\"text-align: right;\">\n",
       "      <th></th>\n",
       "      <th>Unnamed: 0</th>\n",
       "      <th>count</th>\n",
       "      <th>hate_speech</th>\n",
       "      <th>offensive_language</th>\n",
       "      <th>neither</th>\n",
       "      <th>class</th>\n",
       "      <th>tweet</th>\n",
       "    </tr>\n",
       "  </thead>\n",
       "  <tbody>\n",
       "    <tr>\n",
       "      <th>0</th>\n",
       "      <td>0</td>\n",
       "      <td>3</td>\n",
       "      <td>0</td>\n",
       "      <td>0</td>\n",
       "      <td>3</td>\n",
       "      <td>2</td>\n",
       "      <td>woman complain cleaning house man always take ...</td>\n",
       "    </tr>\n",
       "    <tr>\n",
       "      <th>1</th>\n",
       "      <td>1</td>\n",
       "      <td>3</td>\n",
       "      <td>0</td>\n",
       "      <td>3</td>\n",
       "      <td>0</td>\n",
       "      <td>1</td>\n",
       "      <td>boy coldtyga bad cuffin hoe 1st place</td>\n",
       "    </tr>\n",
       "    <tr>\n",
       "      <th>2</th>\n",
       "      <td>2</td>\n",
       "      <td>3</td>\n",
       "      <td>0</td>\n",
       "      <td>3</td>\n",
       "      <td>0</td>\n",
       "      <td>1</td>\n",
       "      <td>friend ever fuck bitch start cry confused shit</td>\n",
       "    </tr>\n",
       "    <tr>\n",
       "      <th>3</th>\n",
       "      <td>3</td>\n",
       "      <td>3</td>\n",
       "      <td>0</td>\n",
       "      <td>2</td>\n",
       "      <td>1</td>\n",
       "      <td>1</td>\n",
       "      <td>look like tranny</td>\n",
       "    </tr>\n",
       "    <tr>\n",
       "      <th>4</th>\n",
       "      <td>4</td>\n",
       "      <td>6</td>\n",
       "      <td>0</td>\n",
       "      <td>6</td>\n",
       "      <td>0</td>\n",
       "      <td>1</td>\n",
       "      <td>shit hear might true might faker bitch told</td>\n",
       "    </tr>\n",
       "  </tbody>\n",
       "</table>\n",
       "</div>"
      ],
      "text/plain": [
       "   Unnamed: 0  count  hate_speech  offensive_language  neither  class  \\\n",
       "0           0      3            0                   0        3      2   \n",
       "1           1      3            0                   3        0      1   \n",
       "2           2      3            0                   3        0      1   \n",
       "3           3      3            0                   2        1      1   \n",
       "4           4      6            0                   6        0      1   \n",
       "\n",
       "                                               tweet  \n",
       "0  woman complain cleaning house man always take ...  \n",
       "1              boy coldtyga bad cuffin hoe 1st place  \n",
       "2     friend ever fuck bitch start cry confused shit  \n",
       "3                                   look like tranny  \n",
       "4        shit hear might true might faker bitch told  "
      ]
     },
     "execution_count": 151,
     "metadata": {},
     "output_type": "execute_result"
    }
   ],
   "source": [
    "def remove_stopwords(text):\n",
    "    stop_words = stopwords.words('english')\n",
    "    imp_words = []\n",
    "    lemmatizer = WordNetLemmatizer()\n",
    "    for word in str(text).split():\n",
    "        if word not in stop_words:\n",
    "            imp_words.append(lemmatizer.lemmatize(word))\n",
    "    return \" \".join(imp_words)\n",
    "\n",
    "df['tweet'] = df['tweet'].apply(lambda text: remove_stopwords(text))\n",
    "df.head()"
   ]
  },
  {
   "cell_type": "markdown",
   "metadata": {},
   "source": [
    "### Save the cleaned data"
   ]
  },
  {
   "cell_type": "code",
   "execution_count": 152,
   "metadata": {},
   "outputs": [],
   "source": [
    "df.to_csv('cleaned_data.csv', index=False)"
   ]
  },
  {
   "cell_type": "markdown",
   "metadata": {},
   "source": [
    "### Plotting Class Distribution"
   ]
  },
  {
   "cell_type": "code",
   "execution_count": 153,
   "metadata": {},
   "outputs": [
    {
     "data": {
      "image/png": "[encoded data removed]",
      "text/plain": [
       "<Figure size 640x480 with 1 Axes>"
      ]
     },
     "metadata": {},
     "output_type": "display_data"
    }
   ],
   "source": [
    "plt.pie(df['class'].value_counts().values, labels=df['class'].value_counts().index, autopct='%1.1f%%')\n",
    "plt.show()"
   ]
  },
  {
   "cell_type": "markdown",
   "metadata": {},
   "source": [
    "### Load Cleaned data"
   ]
  },
  {
   "cell_type": "code",
   "execution_count": 154,
   "metadata": {},
   "outputs": [],
   "source": [
    "df = pd.read_csv('cleaned_data.csv')"
   ]
  },
  {
   "cell_type": "code",
   "execution_count": 155,
   "metadata": {},
   "outputs": [],
   "source": [
    "# Ensure all entries in the text column are strings\n",
    "df['tweet'] = df['tweet'].astype(str).fillna('')"
   ]
  },
  {
   "cell_type": "markdown",
   "metadata": {},
   "source": [
    "### Filter and Encode Labels"
   ]
  },
  {
   "cell_type": "code",
   "execution_count": 156,
   "metadata": {},
   "outputs": [],
   "source": [
    "df = df[df['class'].isin([0, 1, 2])]\n",
    "label_mapping = {0: 0, 1: 0, 2: 1}  # Map both offensive and hate speech to the same class (0)\n",
    "df['label'] = df['class'].map(label_mapping)"
   ]
  },
  {
   "cell_type": "markdown",
   "metadata": {},
   "source": [
    "### Split Data"
   ]
  },
  {
   "cell_type": "code",
   "execution_count": 157,
   "metadata": {},
   "outputs": [],
   "source": [
    "X = df['tweet'].values\n",
    "y = df['label'].values\n",
    "X_train, X_test, y_train, y_test = train_test_split(X, y, test_size=0.2, random_state=42)\n",
    "\n",
    "X_train = [str(text) for text in X_train]\n",
    "X_test = [str(text) for text in X_test]"
   ]
  },
  {
   "cell_type": "markdown",
   "metadata": {},
   "source": [
    "### Tokenize Text and Pad Sequence"
   ]
  },
  {
   "cell_type": "code",
   "execution_count": 158,
   "metadata": {},
   "outputs": [],
   "source": [
    "# Tokenize Text\n",
    "tokenizer = Tokenizer(num_words=10000)\n",
    "tokenizer.fit_on_texts(X_train)\n",
    "X_train_seq = tokenizer.texts_to_sequences(X_train)\n",
    "X_test_seq = tokenizer.texts_to_sequences(X_test)\n",
    "\n",
    "# Pad Sequences\n",
    "max_length = 100\n",
    "X_train_pad = pad_sequences(X_train_seq, maxlen=max_length)\n",
    "X_test_pad = pad_sequences(X_test_seq, maxlen=max_length)"
   ]
  },
  {
   "cell_type": "markdown",
   "metadata": {},
   "source": [
    "### GloVe Embeddings"
   ]
  },
  {
   "cell_type": "code",
   "execution_count": 159,
   "metadata": {},
   "outputs": [
    {
     "name": "stdout",
     "output_type": "stream",
     "text": [
      "Shape of training data: (19826, 100)\n",
      "Shape of test data: (4957, 100)\n"
     ]
    }
   ],
   "source": [
    "def load_glove_embeddings(filepath, word_index, embedding_dim=100):\n",
    "    embeddings_index = {}\n",
    "    with open(filepath, 'r', encoding='utf8') as f:\n",
    "        for line in f:\n",
    "            values = line.split()\n",
    "            word = values[0]\n",
    "            coefs = np.asarray(values[1:], dtype='float32')\n",
    "            embeddings_index[word] = coefs\n",
    "    embedding_matrix = np.zeros((len(word_index) + 1, embedding_dim))\n",
    "    for word, i in word_index.items():\n",
    "        embedding_vector = embeddings_index.get(word)\n",
    "        if embedding_vector is not None:\n",
    "            embedding_matrix[i] = embedding_vector\n",
    "    return embedding_matrix\n",
    "\n",
    "embedding_dim = 100\n",
    "glove_filepath = 'C:\\\\group-1-main\\\\Model-Evaluvation\\\\DL_Models\\\\glove.6B.100d.txt'\n",
    "embedding_matrix = load_glove_embeddings(glove_filepath, tokenizer.word_index, embedding_dim)\n",
    "\n",
    "print(\"Shape of training data:\", X_train_pad.shape)\n",
    "print(\"Shape of test data:\", X_test_pad.shape)"
   ]
  },
  {
   "cell_type": "markdown",
   "metadata": {},
   "source": [
    "### Custom Layer for Mean Reduction"
   ]
  },
  {
   "cell_type": "code",
   "execution_count": 160,
   "metadata": {},
   "outputs": [],
   "source": [
    "class ReduceMeanLayer(Layer):\n",
    "    def call(self, inputs):\n",
    "        return tf.reduce_mean(inputs, axis=1)"
   ]
  },
  {
   "cell_type": "markdown",
   "metadata": {},
   "source": [
    "## MODEL"
   ]
  },
  {
   "cell_type": "markdown",
   "metadata": {},
   "source": [
    "### LSTM Model with Attention"
   ]
  },
  {
   "cell_type": "code",
   "execution_count": 161,
   "metadata": {},
   "outputs": [],
   "source": [
    "#define model\n",
    "def create_lstm_attention_model():\n",
    "    inputs = Input(shape=(max_length,))\n",
    "    embedding_layer = Embedding(input_dim=len(tokenizer.word_index) + 1,\n",
    "                                output_dim=embedding_dim,\n",
    "                                weights=[embedding_matrix],\n",
    "                                input_length=max_length,\n",
    "                                trainable=False)(inputs)\n",
    "    lstm_layer = LSTM(128, return_sequences=True)(embedding_layer)\n",
    "    attention_layer = tf.keras.layers.Attention()([lstm_layer, lstm_layer])\n",
    "    attention_output = ReduceMeanLayer()(attention_layer)\n",
    "    dense_layer = Dense(64, activation='relu')(attention_output)\n",
    "    dropout_layer = Dropout(0.5)(dense_layer)\n",
    "    outputs = Dense(2, activation='softmax')(dropout_layer)\n",
    "    model = Model(inputs=inputs, outputs=outputs)\n",
    "    model.compile(optimizer='adam', loss='sparse_categorical_crossentropy', metrics=['accuracy'])\n",
    "    return model"
   ]
  },
  {
   "cell_type": "code",
   "execution_count": 162,
   "metadata": {},
   "outputs": [
    {
     "name": "stderr",
     "output_type": "stream",
     "text": [
      "C:\\Users\\danie\\AppData\\Local\\Packages\\PythonSoftwareFoundation.Python.3.12_qbz5n2kfra8p0\\LocalCache\\local-packages\\Python312\\site-packages\\keras\\src\\layers\\core\\embedding.py:90: UserWarning: Argument `input_length` is deprecated. Just remove it.\n",
      "  warnings.warn(\n"
     ]
    }
   ],
   "source": [
    "# Create the Model\n",
    "lstm_attention_model = create_lstm_attention_model()"
   ]
  },
  {
   "cell_type": "markdown",
   "metadata": {},
   "source": [
    "### Early Stopping and Model Checkpointing"
   ]
  },
  {
   "cell_type": "code",
   "execution_count": 163,
   "metadata": {},
   "outputs": [],
   "source": [
    "early_stopping = EarlyStopping(monitor='val_loss', \n",
    "                               min_delta=0.001, \n",
    "                               patience=5, \n",
    "                               restore_best_weights=True)\n",
    "checkpoint_filepath = 'best_lstm_model_checkpoint.keras'\n",
    "model_checkpoint = ModelCheckpoint(filepath=checkpoint_filepath, \n",
    "                                   save_best_only=True, \n",
    "                                   monitor='val_loss', \n",
    "                                   mode='min')"
   ]
  },
  {
   "cell_type": "markdown",
   "metadata": {},
   "source": [
    "### Model Training"
   ]
  },
  {
   "cell_type": "code",
   "execution_count": 164,
   "metadata": {},
   "outputs": [
    {
     "name": "stdout",
     "output_type": "stream",
     "text": [
      "Epoch 1/20\n",
      "496/496 - 46s - 93ms/step - accuracy: 0.8878 - loss: 0.2484 - val_accuracy: 0.9188 - val_loss: 0.1641\n",
      "Epoch 2/20\n",
      "496/496 - 42s - 85ms/step - accuracy: 0.9168 - loss: 0.1724 - val_accuracy: 0.9286 - val_loss: 0.1514\n",
      "Epoch 3/20\n",
      "496/496 - 42s - 85ms/step - accuracy: 0.9233 - loss: 0.1607 - val_accuracy: 0.9342 - val_loss: 0.1464\n",
      "Epoch 4/20\n",
      "496/496 - 42s - 85ms/step - accuracy: 0.9324 - loss: 0.1494 - val_accuracy: 0.9281 - val_loss: 0.1558\n",
      "Epoch 5/20\n",
      "496/496 - 42s - 85ms/step - accuracy: 0.9352 - loss: 0.1418 - val_accuracy: 0.9377 - val_loss: 0.1449\n",
      "Epoch 6/20\n",
      "496/496 - 44s - 88ms/step - accuracy: 0.9414 - loss: 0.1324 - val_accuracy: 0.9390 - val_loss: 0.1497\n",
      "Epoch 7/20\n",
      "496/496 - 43s - 86ms/step - accuracy: 0.9449 - loss: 0.1242 - val_accuracy: 0.9370 - val_loss: 0.1591\n",
      "Epoch 8/20\n",
      "496/496 - 42s - 85ms/step - accuracy: 0.9505 - loss: 0.1156 - val_accuracy: 0.9314 - val_loss: 0.1804\n",
      "Epoch 9/20\n",
      "496/496 - 43s - 86ms/step - accuracy: 0.9546 - loss: 0.1045 - val_accuracy: 0.9400 - val_loss: 0.1601\n",
      "Epoch 10/20\n",
      "496/496 - 43s - 87ms/step - accuracy: 0.9587 - loss: 0.0931 - val_accuracy: 0.9365 - val_loss: 0.1645\n"
     ]
    }
   ],
   "source": [
    "history = lstm_attention_model.fit(X_train_pad,\n",
    "                                    y_train, \n",
    "                                    validation_split=0.2, \n",
    "                                    epochs=20, \n",
    "                                    batch_size=32, \n",
    "                                    callbacks=[early_stopping, model_checkpoint], \n",
    "                                    verbose=2)\n"
   ]
  },
  {
   "cell_type": "markdown",
   "metadata": {},
   "source": [
    "### Evaluvate the Model"
   ]
  },
  {
   "cell_type": "code",
   "execution_count": 171,
   "metadata": {},
   "outputs": [
    {
     "name": "stdout",
     "output_type": "stream",
     "text": [
      "\u001b[1m155/155\u001b[0m \u001b[32m━━━━━━━━━━━━━━━━━━━━\u001b[0m\u001b[37m\u001b[0m \u001b[1m5s\u001b[0m 32ms/step\n"
     ]
    }
   ],
   "source": [
    "y_pred = np.argmax(lstm_attention_model.predict(X_test_pad), axis=1)\n",
    "accuracy = accuracy_score(y_test, y_pred)\n",
    "f1 = f1_score(y_test, y_pred, average='weighted')\n",
    "conf_matrix = confusion_matrix(y_test, y_pred)\n",
    "report = classification_report(y_test, y_pred, target_names=['Hate Speech', 'Non-Hate Speech'], digits=4)"
   ]
  },
  {
   "cell_type": "code",
   "execution_count": 166,
   "metadata": {},
   "outputs": [
    {
     "name": "stdout",
     "output_type": "stream",
     "text": [
      "Accuracy: 0.930603187411741\n",
      "F1 Score: 0.929597145965612\n",
      "Classification Report:\n",
      "                 precision    recall  f1-score   support\n",
      "\n",
      "    Hate Speech     0.9519    0.9653    0.9586      4122\n",
      "Non-Hate Speech     0.8160    0.7593    0.7866       835\n",
      "\n",
      "       accuracy                         0.9306      4957\n",
      "      macro avg     0.8839    0.8623    0.8726      4957\n",
      "   weighted avg     0.9290    0.9306    0.9296      4957\n",
      "\n"
     ]
    }
   ],
   "source": [
    "print(f\"Accuracy: {accuracy}\")\n",
    "print(f\"F1 Score: {f1}\")\n",
    "print(f\"Classification Report:\\n{report}\")\n"
   ]
  },
  {
   "cell_type": "markdown",
   "metadata": {},
   "source": [
    "## Confusion Matrix"
   ]
  },
  {
   "cell_type": "code",
   "execution_count": 172,
   "metadata": {},
   "outputs": [
    {
     "data": {
      "image/png": "[encoded data removed]",
      "text/plain": [
       "<Figure size 800x600 with 2 Axes>"
      ]
     },
     "metadata": {},
     "output_type": "display_data"
    }
   ],
   "source": [
    "\n",
    "plt.figure(figsize=(8, 6))\n",
    "sns.heatmap(conf_matrix, annot=True, fmt='d', cmap='Blues', xticklabels=['Hate Speech', 'Non-Hate Speech'], yticklabels=['Hate Speech', 'Non-Hate Speech'])\n",
    "plt.xlabel('Predicted')\n",
    "plt.ylabel('Actual')\n",
    "plt.title('Confusion Matrix')\n",
    "plt.show()"
   ]
  },
  {
   "cell_type": "markdown",
   "metadata": {},
   "source": [
    "### Save the model"
   ]
  },
  {
   "cell_type": "code",
   "execution_count": null,
   "metadata": {},
   "outputs": [
    {
     "name": "stdout",
     "output_type": "stream",
     "text": [
      "Model saved to best_lstm_model.keras\n"
     ]
    }
   ],
   "source": [
    "model_save_path = 'best_lstm_model.keras'\n",
    "lstm_attention_model.save(model_save_path)\n",
    "print(f\"Model saved to {model_save_path}\")"
   ]
  },
  {
   "cell_type": "markdown",
   "metadata": {},
   "source": [
    "## PREDICTIONS"
   ]
  },
  {
   "cell_type": "markdown",
   "metadata": {},
   "source": [
    "### Load the Model"
   ]
  },
  {
   "cell_type": "code",
   "execution_count": null,
   "metadata": {},
   "outputs": [
    {
     "name": "stdout",
     "output_type": "stream",
     "text": [
      "Model loaded from disk.\n"
     ]
    }
   ],
   "source": [
    "loaded_model = load_model(model_save_path, custom_objects={'ReduceMeanLayer': ReduceMeanLayer})\n",
    "print(\"Model loaded from disk.\")"
   ]
  },
  {
   "cell_type": "code",
   "execution_count": null,
   "metadata": {},
   "outputs": [],
   "source": [
    "# Load Original Dataset\n",
    "original_df = pd.read_csv('labeled_data.csv')\n",
    "\n",
    "# Ensure all entries in the text column are strings\n",
    "original_df['tweet'] = original_df['tweet'].astype(str).fillna('')"
   ]
  },
  {
   "cell_type": "markdown",
   "metadata": {},
   "source": [
    "### Apply the same preprocessing steps"
   ]
  },
  {
   "cell_type": "code",
   "execution_count": null,
   "metadata": {},
   "outputs": [],
   "source": [
    "\n",
    "original_df['tweet'] = original_df['tweet'].apply(remove_usernames)\n",
    "original_df['tweet'] = original_df['tweet'].apply(remove_sequence)\n",
    "original_df['tweet'] = original_df['tweet'].apply(remove_urls)\n",
    "original_df['tweet'] = original_df['tweet'].str.lower()\n",
    "original_df['tweet'] = original_df['tweet'].apply(lambda x: remove_punctuations(x))\n",
    "original_df['tweet'] = original_df['tweet'].apply(lambda x: replace_words(x.lower(), abbreviations_dict))\n",
    "original_df['tweet'] = original_df['tweet'].apply(lambda text: remove_stopwords(text))\n",
    "\n",
    "# Tokenize and Pad the Original Data\n",
    "original_seq = tokenizer.texts_to_sequences(original_df['tweet'])\n",
    "original_pad = pad_sequences(original_seq, maxlen=max_length)\n",
    "\n"
   ]
  },
  {
   "cell_type": "markdown",
   "metadata": {},
   "source": [
    "### Make Predictions on the Original Dataset"
   ]
  },
  {
   "cell_type": "code",
   "execution_count": null,
   "metadata": {},
   "outputs": [
    {
     "name": "stdout",
     "output_type": "stream",
     "text": [
      "\u001b[1m775/775\u001b[0m \u001b[32m━━━━━━━━━━━━━━━━━━━━\u001b[0m\u001b[37m\u001b[0m \u001b[1m20s\u001b[0m 25ms/step\n"
     ]
    }
   ],
   "source": [
    "\n",
    "predictions = np.argmax(loaded_model.predict(original_pad), axis=1)\n"
   ]
  },
  {
   "cell_type": "markdown",
   "metadata": {},
   "source": [
    "### Add Predictions to DataFrame"
   ]
  },
  {
   "cell_type": "code",
   "execution_count": null,
   "metadata": {},
   "outputs": [
    {
     "name": "stdout",
     "output_type": "stream",
     "text": [
      "Predictions added to the original dataset.\n",
      "   Unnamed: 0  count  hate_speech  offensive_language  neither  class  \\\n",
      "0           0      3            0                   0        3      2   \n",
      "1           1      3            0                   3        0      1   \n",
      "2           2      3            0                   3        0      1   \n",
      "3           3      3            0                   2        1      1   \n",
      "4           4      6            0                   6        0      1   \n",
      "\n",
      "                                               tweet  predictions  \n",
      "0  woman complain cleaning house man always take ...            1  \n",
      "1              boy coldtyga bad cuffin hoe 1st place            0  \n",
      "2     friend ever fuck bitch start cry confused shit            0  \n",
      "3                                   look like tranny            0  \n",
      "4        shit hear might true might faker bitch told            0  \n"
     ]
    }
   ],
   "source": [
    "\n",
    "original_df['predictions'] = predictions\n",
    "print(\"Predictions added to the original dataset.\")\n",
    "print(original_df.head())"
   ]
  }
 ],
 "metadata": {
  "kernelspec": {
   "display_name": "Python 3",
   "language": "python",
   "name": "python3"
  },
  "language_info": {
   "codemirror_mode": {
    "name": "ipython",
    "version": 3
   },
   "file_extension": ".py",
   "mimetype": "text/x-python",
   "name": "python",
   "nbconvert_exporter": "python",
   "pygments_lexer": "ipython3",
   "version": "3.12.4"
  }
 },
 "nbformat": 4,
 "nbformat_minor": 2
}
