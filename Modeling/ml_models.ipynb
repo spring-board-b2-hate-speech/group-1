{
 "cells": [
  {
   "cell_type": "markdown",
   "metadata": {},
   "source": [
    "# ML Models"
   ]
  },
  {
   "cell_type": "code",
   "execution_count": 6,
   "metadata": {},
   "outputs": [],
   "source": [
    "#import necessary libraries\n",
    "import pandas as pd\n",
    "from sklearn.feature_extraction.text import TfidfVectorizer\n",
    "from sklearn.model_selection import train_test_split\n",
    "from sklearn.linear_model import LogisticRegression\n",
    "from sklearn.svm import SVC\n",
    "from sklearn.ensemble import RandomForestClassifier\n",
    "from sklearn.metrics import classification_report, accuracy_score\n",
    "from imblearn.over_sampling import SMOTE\n",
    "import pickle"
   ]
  },
  {
   "cell_type": "code",
   "execution_count": 7,
   "metadata": {},
   "outputs": [],
   "source": [
    "# Load the cleaned dataset\n",
    "df = pd.read_csv('C:\\\\group-1-main\\\\Data-Preprocessing\\\\cleaned_data.csv')\n",
    "df['tweet'] = df['tweet'].astype(str)"
   ]
  },
  {
   "cell_type": "markdown",
   "metadata": {},
   "source": [
    "## TF - IDF ENCODING"
   ]
  },
  {
   "cell_type": "code",
   "execution_count": 8,
   "metadata": {},
   "outputs": [],
   "source": [
    "def tfidf_encoding(df, text_column):\n",
    "    tfidf_vectorizer = TfidfVectorizer()\n",
    "    tfidf_matrix = tfidf_vectorizer.fit_transform(df[text_column])\n",
    "    return tfidf_matrix\n",
    "\n",
    "# Apply TF-IDF encoding\n",
    "text_column = 'tweet'\n",
    "tfidf_matrix = tfidf_encoding(df, text_column)"
   ]
  },
  {
   "cell_type": "markdown",
   "metadata": {},
   "source": [
    "## Prepare data for modeling"
   ]
  },
  {
   "cell_type": "code",
   "execution_count": 9,
   "metadata": {},
   "outputs": [],
   "source": [
    "X = tfidf_matrix\n",
    "y = df['class']\n",
    "# Split the data into training and testing sets\n",
    "X_train, X_test, y_train, y_test = train_test_split(X, y, test_size=0.2, random_state=42)\n",
    "\n",
    "# Address class imbalance using SMOTE\n",
    "smote = SMOTE(random_state=42)\n",
    "X_train_res, y_train_res = smote.fit_resample(X_train, y_train)"
   ]
  },
  {
   "cell_type": "markdown",
   "metadata": {},
   "source": [
    "## Function to train and evaluvate models"
   ]
  },
  {
   "cell_type": "code",
   "execution_count": 10,
   "metadata": {},
   "outputs": [
    {
     "name": "stdout",
     "output_type": "stream",
     "text": [
      "Results for Logistic Regression:\n",
      "              precision    recall  f1-score   support\n",
      "\n",
      "      Normal       0.33      0.49      0.39       282\n",
      "        Hate       0.96      0.88      0.92      3798\n",
      "   Offensive       0.76      0.92      0.84       874\n",
      "\n",
      "    accuracy                           0.86      4954\n",
      "   macro avg       0.68      0.76      0.71      4954\n",
      "weighted avg       0.89      0.86      0.87      4954\n",
      "\n",
      "Accuracy: 0.8625353249899071\n",
      "\n",
      "Results for Support Vector Machine:\n",
      "              precision    recall  f1-score   support\n",
      "\n",
      "      Normal       0.49      0.13      0.21       282\n",
      "        Hate       0.91      0.96      0.94      3798\n",
      "   Offensive       0.84      0.83      0.83       874\n",
      "\n",
      "    accuracy                           0.89      4954\n",
      "   macro avg       0.75      0.64      0.66      4954\n",
      "weighted avg       0.87      0.89      0.88      4954\n",
      "\n",
      "Accuracy: 0.8911990310859911\n",
      "\n",
      "Results for Random Forest:\n",
      "              precision    recall  f1-score   support\n",
      "\n",
      "      Normal       0.48      0.33      0.39       282\n",
      "        Hate       0.94      0.94      0.94      3798\n",
      "   Offensive       0.82      0.90      0.86       874\n",
      "\n",
      "    accuracy                           0.90      4954\n",
      "   macro avg       0.75      0.72      0.73      4954\n",
      "weighted avg       0.89      0.90      0.89      4954\n",
      "\n",
      "Accuracy: 0.8972547436415018\n",
      "\n"
     ]
    }
   ],
   "source": [
    "def evaluate_model(model, X_train, X_test, y_train, y_test):\n",
    "    model.fit(X_train, y_train)\n",
    "    y_pred = model.predict(X_test)\n",
    "    report = classification_report(y_test, y_pred, target_names=['Normal', 'Hate', 'Offensive'])\n",
    "    accuracy = accuracy_score(y_test, y_pred)\n",
    "    return report, accuracy\n",
    "\n",
    "# Initialize models\n",
    "models = {\n",
    "    'Logistic Regression': LogisticRegression(random_state=42, max_iter=1000),\n",
    "    'Support Vector Machine': SVC(random_state=42),\n",
    "    'Random Forest': RandomForestClassifier(n_estimators=100, random_state=42)\n",
    "}\n",
    "\n",
    "# Evaluate models\n",
    "results = {}\n",
    "for model_name, model in models.items():\n",
    "    report, accuracy = evaluate_model(model, X_train_res, X_test, y_train_res, y_test)\n",
    "    results[model_name] = {'report': report, 'accuracy': accuracy}\n",
    "    print(f\"Results for {model_name}:\")\n",
    "    print(report)\n",
    "    print(f\"Accuracy: {accuracy}\\n\")\n",
    "\n",
    "\n"
   ]
  },
  {
   "cell_type": "markdown",
   "metadata": {},
   "source": [
    "## Save the best performing model"
   ]
  },
  {
   "cell_type": "code",
   "execution_count": 11,
   "metadata": {},
   "outputs": [
    {
     "name": "stdout",
     "output_type": "stream",
     "text": [
      "Best model (Random Forest) saved to best_ml_model.pkl\n"
     ]
    }
   ],
   "source": [
    "best_model_name = max(results, key=lambda k: results[k]['accuracy'])\n",
    "best_model = models[best_model_name]\n",
    "with open('best_ml_model.pkl', 'wb') as file:\n",
    "    pickle.dump(best_model, file)\n",
    "\n",
    "print(f\"Best model ({best_model_name}) saved to best_ml_model.pkl\")"
   ]
  }
 ],
 "metadata": {
  "kernelspec": {
   "display_name": "Python 3",
   "language": "python",
   "name": "python3"
  },
  "language_info": {
   "codemirror_mode": {
    "name": "ipython",
    "version": 3
   },
   "file_extension": ".py",
   "mimetype": "text/x-python",
   "name": "python",
   "nbconvert_exporter": "python",
   "pygments_lexer": "ipython3",
   "version": "3.12.4"
  }
 },
 "nbformat": 4,
 "nbformat_minor": 2
}
