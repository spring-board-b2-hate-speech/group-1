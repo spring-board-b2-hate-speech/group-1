{
 "cells": [
  {
   "cell_type": "markdown",
   "metadata": {},
   "source": [
    "#  __Deep Learning Models__\n",
    "\n"
   ]
  },
  {
   "cell_type": "markdown",
   "metadata": {},
   "source": [
    "## Import necessary libraries"
   ]
  },
  {
   "cell_type": "code",
   "execution_count": null,
   "metadata": {},
   "outputs": [],
   "source": [
    "\n",
    "import pandas as pd\n",
    "import numpy as np\n",
    "from sklearn.model_selection import train_test_split\n",
    "from sklearn.metrics import classification_report, accuracy_score\n",
    "from imblearn.over_sampling import SMOTE\n",
    "from tensorflow.keras.models import Sequential\n",
    "from tensorflow.keras.layers import Dense, LSTM, Embedding, SpatialDropout1D, Conv1D, GlobalMaxPooling1D, Bidirectional\n",
    "from tensorflow.keras.preprocessing.sequence import pad_sequences\n",
    "from tensorflow.keras.preprocessing.text import Tokenizer"
   ]
  },
  {
   "cell_type": "code",
   "execution_count": null,
   "metadata": {},
   "outputs": [],
   "source": [
    "#Load the cleaned dataset\n",
    "df = pd.read_csv('../Data-Preprocessing/cleaned_data.csv')\n",
    "df['tweet'] = df['tweet'].astype(str)"
   ]
  },
  {
   "cell_type": "markdown",
   "metadata": {},
   "source": [
    "## Tokenize the data for Deep Learning models"
   ]
  },
  {
   "cell_type": "code",
   "execution_count": null,
   "metadata": {},
   "outputs": [],
   "source": [
    "tokenizer = Tokenizer()\n",
    "tokenizer.fit_on_texts(df['tweet'])\n",
    "X_seq = tokenizer.texts_to_sequences(df['tweet'])\n",
    "X_pad = pad_sequences(X_seq, maxlen=100)  # Padding sequences to the same length\n",
    "vocab_size = len(tokenizer.word_index) + 1\n",
    "y = df['class']  # Assuming 'class' is the target variable"
   ]
  },
  {
   "cell_type": "markdown",
   "metadata": {},
   "source": [
    "## Prepare Data for Modeling"
   ]
  },
  {
   "cell_type": "code",
   "execution_count": null,
   "metadata": {},
   "outputs": [],
   "source": [
    "# Split the padded sequences into training and testing sets\n",
    "X_train_pad, X_test_pad, y_train_pad, y_test_pad = train_test_split(X_pad, y, test_size=0.2, random_state=42)\n",
    "\n",
    "# Address class imbalance using SMOTE\n",
    "smote = SMOTE(random_state=42)\n",
    "X_train_pad_res, y_train_pad_res = smote.fit_resample(X_train_pad, y_train_pad)"
   ]
  },
  {
   "cell_type": "markdown",
   "metadata": {},
   "source": [
    "## 1.  __LSTM__ model"
   ]
  },
  {
   "cell_type": "code",
   "execution_count": null,
   "metadata": {},
   "outputs": [],
   "source": [
    "# Define LSTM model\n",
    "lstm_model = Sequential()\n",
    "lstm_model.add(Embedding(input_dim=vocab_size, output_dim=128, input_length=100))\n",
    "lstm_model.add(SpatialDropout1D(0.2))\n",
    "lstm_model.add(Bidirectional(LSTM(100, dropout=0.2, recurrent_dropout=0.2)))\n",
    "lstm_model.add(Dense(3, activation='softmax'))  # Assuming 3 classes\n",
    "\n",
    "lstm_model.compile(loss='sparse_categorical_crossentropy', optimizer='adam', metrics=['accuracy'])\n",
    "lstm_model.fit(X_train_pad_res, y_train_pad_res, epochs=5, batch_size=64, validation_data=(X_test_pad, y_test_pad))\n",
    "\n",
    "# Evaluate LSTM model\n",
    "lstm_loss, lstm_accuracy = lstm_model.evaluate(X_test_pad, y_test_pad)\n",
    "lstm_y_pred = lstm_model.predict(X_test_pad)\n",
    "lstm_y_pred_classes = np.argmax(lstm_y_pred, axis=1)\n",
    "lstm_report = classification_report(y_test_pad, lstm_y_pred_classes, target_names=['Normal', 'Hate', 'Offensive'])\n",
    "\n",
    "print(\"LSTM Model Accuracy:\", lstm_accuracy)\n",
    "print(\"LSTM Model Classification Report:\\n\", lstm_report)"
   ]
  },
  {
   "cell_type": "markdown",
   "metadata": {},
   "source": [
    "## 2.  __CNN__ "
   ]
  },
  {
   "cell_type": "code",
   "execution_count": null,
   "metadata": {},
   "outputs": [],
   "source": [
    "#define cnn model\n",
    "cnn_model = Sequential()\n",
    "cnn_model.add(Embedding(input_dim=vocab_size, output_dim=128, input_length=100))\n",
    "cnn_model.add(Conv1D(filters=128, kernel_size=5, activation='relu'))\n",
    "cnn_model.add(GlobalMaxPooling1D())\n",
    "cnn_model.add(Dense(3, activation='softmax'))  # Assuming 3 classes\n",
    "\n",
    "cnn_model.compile(loss='sparse_categorical_crossentropy', optimizer='adam', metrics=['accuracy'])\n",
    "cnn_model.fit(X_train_pad_res, y_train_pad_res, epochs=5, batch_size=64, validation_data=(X_test_pad, y_test_pad))\n",
    "\n",
    "# Evaluate CNN model\n",
    "cnn_loss, cnn_accuracy = cnn_model.evaluate(X_test_pad, y_test_pad)\n",
    "cnn_y_pred = cnn_model.predict(X_test_pad)\n",
    "cnn_y_pred_classes = np.argmax(cnn_y_pred, axis=1)\n",
    "cnn_report = classification_report(y_test_pad, cnn_y_pred_classes, target_names=['Normal', 'Hate', 'Offensive'])\n",
    "\n",
    "print(\"CNN Model Accuracy:\", cnn_accuracy)\n",
    "print(\"CNN Model Classification Report:\\n\", cnn_report)"
   ]
  },
  {
   "cell_type": "markdown",
   "metadata": {},
   "source": [
    "## 2.  __Bidirectional LSTM__ model"
   ]
  },
  {
   "cell_type": "code",
   "execution_count": null,
   "metadata": {},
   "outputs": [],
   "source": [
    "#Define Bidirectional LSTM model\n",
    "bi_lstm_model = Sequential()\n",
    "bi_lstm_model.add(Embedding(input_dim=vocab_size, output_dim=128, input_length=100))\n",
    "bi_lstm_model.add(SpatialDropout1D(0.2))\n",
    "bi_lstm_model.add(Bidirectional(LSTM(100, dropout=0.2, recurrent_dropout=0.2)))\n",
    "bi_lstm_model.add(Dense(3, activation='softmax'))  # Assuming 3 classes\n",
    "\n",
    "bi_lstm_model.compile(loss='sparse_categorical_crossentropy', optimizer='adam', metrics=['accuracy'])\n",
    "bi_lstm_model.fit(X_train_pad_res, y_train_pad_res, epochs=5, batch_size=64, validation_data=(X_test_pad, y_test_pad))\n",
    "\n",
    "# Evaluate Bidirectional LSTM model\n",
    "bi_lstm_loss, bi_lstm_accuracy = bi_lstm_model.evaluate(X_test_pad, y_test_pad)\n",
    "bi_lstm_y_pred = bi_lstm_model.predict(X_test_pad)\n",
    "bi_lstm_y_pred_classes = np.argmax(bi_lstm_y_pred, axis=1)\n",
    "bi_lstm_report = classification_report(y_test_pad, bi_lstm_y_pred_classes, target_names=['Normal', 'Hate', 'Offensive'])\n",
    "\n",
    "print(\"Bidirectional LSTM Model Accuracy:\", bi_lstm_accuracy)\n",
    "print(\"Bidirectional LSTM Model Classification Report:\\n\", bi_lstm_report)"
   ]
  }
 ],
 "metadata": {
  "language_info": {
   "name": "python"
  }
 },
 "nbformat": 4,
 "nbformat_minor": 2
}
