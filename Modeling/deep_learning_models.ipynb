{
 "cells": [
  {
   "cell_type": "markdown",
   "metadata": {},
   "source": [
    "#  __Deep Learning Models__\n",
    "\n"
   ]
  },
  {
   "cell_type": "markdown",
   "metadata": {},
   "source": [
    "## Import necessary libraries"
   ]
  },
  {
   "cell_type": "code",
   "execution_count": 15,
   "metadata": {},
   "outputs": [],
   "source": [
    "\n",
    "import pandas as pd\n",
    "import numpy as np\n",
    "from sklearn.model_selection import train_test_split\n",
    "from sklearn.metrics import classification_report, accuracy_score\n",
    "from imblearn.over_sampling import SMOTE\n",
    "from tensorflow.keras.models import Sequential\n",
    "from tensorflow.keras.layers import Dense, LSTM, Embedding, SpatialDropout1D, Conv1D, GlobalMaxPooling1D, Bidirectional\n",
    "from tensorflow.keras.preprocessing.sequence import pad_sequences\n",
    "from tensorflow.keras.preprocessing.text import Tokenizer"
   ]
  },
  {
   "cell_type": "code",
   "execution_count": 16,
   "metadata": {},
   "outputs": [],
   "source": [
    "#Load the cleaned dataset\n",
    "df = pd.read_csv('../Data-Preprocessing/cleaned_data.csv')\n",
    "df['tweet'] = df['tweet'].astype(str)"
   ]
  },
  {
   "cell_type": "markdown",
   "metadata": {},
   "source": [
    "## Tokenize the data for Deep Learning models"
   ]
  },
  {
   "cell_type": "code",
   "execution_count": 17,
   "metadata": {},
   "outputs": [],
   "source": [
    "tokenizer = Tokenizer()\n",
    "tokenizer.fit_on_texts(df['tweet'])\n",
    "X_seq = tokenizer.texts_to_sequences(df['tweet'])\n",
    "X_pad = pad_sequences(X_seq, maxlen=100)  # Padding sequences to the same length\n",
    "vocab_size = len(tokenizer.word_index) + 1\n",
    "y = df['class']  # Assuming 'class' is the target variable"
   ]
  },
  {
   "cell_type": "markdown",
   "metadata": {},
   "source": [
    "## Prepare Data for Modeling"
   ]
  },
  {
   "cell_type": "code",
   "execution_count": 18,
   "metadata": {},
   "outputs": [],
   "source": [
    "# Split the padded sequences into training and testing sets\n",
    "X_train_pad, X_test_pad, y_train_pad, y_test_pad = train_test_split(X_pad, y, test_size=0.2, random_state=42)\n",
    "\n",
    "# Address class imbalance using SMOTE\n",
    "smote = SMOTE(random_state=42)\n",
    "X_train_pad_res, y_train_pad_res = smote.fit_resample(X_train_pad, y_train_pad)"
   ]
  },
  {
   "cell_type": "markdown",
   "metadata": {},
   "source": [
    "## 1.  __LSTM__ model"
   ]
  },
  {
   "cell_type": "code",
   "execution_count": 19,
   "metadata": {},
   "outputs": [
    {
     "name": "stdout",
     "output_type": "stream",
     "text": [
      "Epoch 1/5\n"
     ]
    },
    {
     "name": "stderr",
     "output_type": "stream",
     "text": [
      "C:\\Users\\danie\\AppData\\Local\\Packages\\PythonSoftwareFoundation.Python.3.12_qbz5n2kfra8p0\\LocalCache\\local-packages\\Python312\\site-packages\\keras\\src\\layers\\core\\embedding.py:90: UserWarning: Argument `input_length` is deprecated. Just remove it.\n",
      "  warnings.warn(\n"
     ]
    },
    {
     "name": "stdout",
     "output_type": "stream",
     "text": [
      "\u001b[1m722/722\u001b[0m \u001b[32m━━━━━━━━━━━━━━━━━━━━\u001b[0m\u001b[37m\u001b[0m \u001b[1m97s\u001b[0m 127ms/step - accuracy: 0.6018 - loss: 0.8481 - val_accuracy: 0.8080 - val_loss: 0.5358\n",
      "Epoch 2/5\n",
      "\u001b[1m722/722\u001b[0m \u001b[32m━━━━━━━━━━━━━━━━━━━━\u001b[0m\u001b[37m\u001b[0m \u001b[1m92s\u001b[0m 128ms/step - accuracy: 0.7295 - loss: 0.6268 - val_accuracy: 0.7967 - val_loss: 0.5685\n",
      "Epoch 3/5\n",
      "\u001b[1m722/722\u001b[0m \u001b[32m━━━━━━━━━━━━━━━━━━━━\u001b[0m\u001b[37m\u001b[0m \u001b[1m94s\u001b[0m 130ms/step - accuracy: 0.7861 - loss: 0.5184 - val_accuracy: 0.7612 - val_loss: 0.6631\n",
      "Epoch 4/5\n",
      "\u001b[1m722/722\u001b[0m \u001b[32m━━━━━━━━━━━━━━━━━━━━\u001b[0m\u001b[37m\u001b[0m \u001b[1m94s\u001b[0m 129ms/step - accuracy: 0.8223 - loss: 0.4328 - val_accuracy: 0.7915 - val_loss: 0.6406\n",
      "Epoch 5/5\n",
      "\u001b[1m722/722\u001b[0m \u001b[32m━━━━━━━━━━━━━━━━━━━━\u001b[0m\u001b[37m\u001b[0m \u001b[1m94s\u001b[0m 130ms/step - accuracy: 0.8527 - loss: 0.3682 - val_accuracy: 0.7848 - val_loss: 0.7018\n",
      "\u001b[1m155/155\u001b[0m \u001b[32m━━━━━━━━━━━━━━━━━━━━\u001b[0m\u001b[37m\u001b[0m \u001b[1m3s\u001b[0m 22ms/step - accuracy: 0.7808 - loss: 0.7332\n",
      "\u001b[1m155/155\u001b[0m \u001b[32m━━━━━━━━━━━━━━━━━━━━\u001b[0m\u001b[37m\u001b[0m \u001b[1m4s\u001b[0m 25ms/step\n",
      "LSTM Model Accuracy: 0.7848203182220459\n",
      "LSTM Model Classification Report:\n",
      "               precision    recall  f1-score   support\n",
      "\n",
      "      Normal       0.19      0.50      0.27       282\n",
      "        Hate       0.96      0.81      0.88      3798\n",
      "   Offensive       0.67      0.78      0.72       874\n",
      "\n",
      "    accuracy                           0.78      4954\n",
      "   macro avg       0.61      0.69      0.62      4954\n",
      "weighted avg       0.87      0.78      0.82      4954\n",
      "\n"
     ]
    }
   ],
   "source": [
    "# Define LSTM model\n",
    "lstm_model = Sequential()\n",
    "lstm_model.add(Embedding(input_dim=vocab_size, output_dim=128, input_length=100))\n",
    "lstm_model.add(SpatialDropout1D(0.2))\n",
    "lstm_model.add(Bidirectional(LSTM(100, dropout=0.2, recurrent_dropout=0.2)))\n",
    "lstm_model.add(Dense(3, activation='softmax'))  # Assuming 3 classes\n",
    "\n",
    "lstm_model.compile(loss='sparse_categorical_crossentropy', optimizer='adam', metrics=['accuracy'])\n",
    "lstm_model.fit(X_train_pad_res, y_train_pad_res, epochs=5, batch_size=64, validation_data=(X_test_pad, y_test_pad))\n",
    "\n",
    "# Evaluate LSTM model\n",
    "lstm_loss, lstm_accuracy = lstm_model.evaluate(X_test_pad, y_test_pad)\n",
    "lstm_y_pred = lstm_model.predict(X_test_pad)\n",
    "lstm_y_pred_classes = np.argmax(lstm_y_pred, axis=1)\n",
    "lstm_report = classification_report(y_test_pad, lstm_y_pred_classes, target_names=['Normal', 'Hate', 'Offensive'])\n",
    "\n",
    "print(\"LSTM Model Accuracy:\", lstm_accuracy)\n",
    "print(\"LSTM Model Classification Report:\\n\", lstm_report)"
   ]
  },
  {
   "cell_type": "markdown",
   "metadata": {},
   "source": [
    "## 2.  __CNN__ "
   ]
  },
  {
   "cell_type": "code",
   "execution_count": 20,
   "metadata": {},
   "outputs": [
    {
     "name": "stdout",
     "output_type": "stream",
     "text": [
      "Epoch 1/5\n"
     ]
    },
    {
     "name": "stderr",
     "output_type": "stream",
     "text": [
      "C:\\Users\\danie\\AppData\\Local\\Packages\\PythonSoftwareFoundation.Python.3.12_qbz5n2kfra8p0\\LocalCache\\local-packages\\Python312\\site-packages\\keras\\src\\layers\\core\\embedding.py:90: UserWarning: Argument `input_length` is deprecated. Just remove it.\n",
      "  warnings.warn(\n"
     ]
    },
    {
     "name": "stdout",
     "output_type": "stream",
     "text": [
      "\u001b[1m722/722\u001b[0m \u001b[32m━━━━━━━━━━━━━━━━━━━━\u001b[0m\u001b[37m\u001b[0m \u001b[1m31s\u001b[0m 40ms/step - accuracy: 0.6153 - loss: 0.8245 - val_accuracy: 0.7933 - val_loss: 0.6373\n",
      "Epoch 2/5\n",
      "\u001b[1m722/722\u001b[0m \u001b[32m━━━━━━━━━━━━━━━━━━━━\u001b[0m\u001b[37m\u001b[0m \u001b[1m27s\u001b[0m 38ms/step - accuracy: 0.7835 - loss: 0.5260 - val_accuracy: 0.8365 - val_loss: 0.4741\n",
      "Epoch 3/5\n",
      "\u001b[1m722/722\u001b[0m \u001b[32m━━━━━━━━━━━━━━━━━━━━\u001b[0m\u001b[37m\u001b[0m \u001b[1m28s\u001b[0m 39ms/step - accuracy: 0.8956 - loss: 0.3002 - val_accuracy: 0.8094 - val_loss: 0.5693\n",
      "Epoch 4/5\n",
      "\u001b[1m722/722\u001b[0m \u001b[32m━━━━━━━━━━━━━━━━━━━━\u001b[0m\u001b[37m\u001b[0m \u001b[1m30s\u001b[0m 41ms/step - accuracy: 0.9539 - loss: 0.1479 - val_accuracy: 0.7602 - val_loss: 0.8164\n",
      "Epoch 5/5\n",
      "\u001b[1m722/722\u001b[0m \u001b[32m━━━━━━━━━━━━━━━━━━━━\u001b[0m\u001b[37m\u001b[0m \u001b[1m30s\u001b[0m 42ms/step - accuracy: 0.9765 - loss: 0.0826 - val_accuracy: 0.7660 - val_loss: 0.9246\n",
      "\u001b[1m155/155\u001b[0m \u001b[32m━━━━━━━━━━━━━━━━━━━━\u001b[0m\u001b[37m\u001b[0m \u001b[1m1s\u001b[0m 5ms/step - accuracy: 0.7680 - loss: 0.9435\n",
      "\u001b[1m155/155\u001b[0m \u001b[32m━━━━━━━━━━━━━━━━━━━━\u001b[0m\u001b[37m\u001b[0m \u001b[1m1s\u001b[0m 6ms/step\n",
      "CNN Model Accuracy: 0.7660476565361023\n",
      "CNN Model Classification Report:\n",
      "               precision    recall  f1-score   support\n",
      "\n",
      "      Normal       0.16      0.41      0.23       282\n",
      "        Hate       0.96      0.78      0.86      3798\n",
      "   Offensive       0.64      0.80      0.71       874\n",
      "\n",
      "    accuracy                           0.77      4954\n",
      "   macro avg       0.58      0.67      0.60      4954\n",
      "weighted avg       0.85      0.77      0.80      4954\n",
      "\n"
     ]
    }
   ],
   "source": [
    "#define cnn model\n",
    "cnn_model = Sequential()\n",
    "cnn_model.add(Embedding(input_dim=vocab_size, output_dim=128, input_length=100))\n",
    "cnn_model.add(Conv1D(filters=128, kernel_size=5, activation='relu'))\n",
    "cnn_model.add(GlobalMaxPooling1D())\n",
    "cnn_model.add(Dense(3, activation='softmax'))  # Assuming 3 classes\n",
    "\n",
    "cnn_model.compile(loss='sparse_categorical_crossentropy', optimizer='adam', metrics=['accuracy'])\n",
    "cnn_model.fit(X_train_pad_res, y_train_pad_res, epochs=5, batch_size=64, validation_data=(X_test_pad, y_test_pad))\n",
    "\n",
    "# Evaluate CNN model\n",
    "cnn_loss, cnn_accuracy = cnn_model.evaluate(X_test_pad, y_test_pad)\n",
    "cnn_y_pred = cnn_model.predict(X_test_pad)\n",
    "cnn_y_pred_classes = np.argmax(cnn_y_pred, axis=1)\n",
    "cnn_report = classification_report(y_test_pad, cnn_y_pred_classes, target_names=['Normal', 'Hate', 'Offensive'])\n",
    "\n",
    "print(\"CNN Model Accuracy:\", cnn_accuracy)\n",
    "print(\"CNN Model Classification Report:\\n\", cnn_report)"
   ]
  },
  {
   "cell_type": "markdown",
   "metadata": {},
   "source": [
    "## 3.  __Bidirectional LSTM__ model"
   ]
  },
  {
   "cell_type": "code",
   "execution_count": 21,
   "metadata": {},
   "outputs": [
    {
     "name": "stdout",
     "output_type": "stream",
     "text": [
      "Epoch 1/5\n"
     ]
    },
    {
     "name": "stderr",
     "output_type": "stream",
     "text": [
      "C:\\Users\\danie\\AppData\\Local\\Packages\\PythonSoftwareFoundation.Python.3.12_qbz5n2kfra8p0\\LocalCache\\local-packages\\Python312\\site-packages\\keras\\src\\layers\\core\\embedding.py:90: UserWarning: Argument `input_length` is deprecated. Just remove it.\n",
      "  warnings.warn(\n"
     ]
    },
    {
     "name": "stdout",
     "output_type": "stream",
     "text": [
      "\u001b[1m722/722\u001b[0m \u001b[32m━━━━━━━━━━━━━━━━━━━━\u001b[0m\u001b[37m\u001b[0m \u001b[1m98s\u001b[0m 129ms/step - accuracy: 0.5908 - loss: 0.8569 - val_accuracy: 0.8153 - val_loss: 0.5187\n",
      "Epoch 2/5\n",
      "\u001b[1m722/722\u001b[0m \u001b[32m━━━━━━━━━━━━━━━━━━━━\u001b[0m\u001b[37m\u001b[0m \u001b[1m91s\u001b[0m 127ms/step - accuracy: 0.7268 - loss: 0.6249 - val_accuracy: 0.8099 - val_loss: 0.5290\n",
      "Epoch 3/5\n",
      "\u001b[1m722/722\u001b[0m \u001b[32m━━━━━━━━━━━━━━━━━━━━\u001b[0m\u001b[37m\u001b[0m \u001b[1m95s\u001b[0m 132ms/step - accuracy: 0.7787 - loss: 0.5268 - val_accuracy: 0.7917 - val_loss: 0.6089\n",
      "Epoch 4/5\n",
      "\u001b[1m722/722\u001b[0m \u001b[32m━━━━━━━━━━━━━━━━━━━━\u001b[0m\u001b[37m\u001b[0m \u001b[1m92s\u001b[0m 128ms/step - accuracy: 0.8214 - loss: 0.4371 - val_accuracy: 0.7899 - val_loss: 0.6147\n",
      "Epoch 5/5\n",
      "\u001b[1m722/722\u001b[0m \u001b[32m━━━━━━━━━━━━━━━━━━━━\u001b[0m\u001b[37m\u001b[0m \u001b[1m93s\u001b[0m 128ms/step - accuracy: 0.8511 - loss: 0.3710 - val_accuracy: 0.7804 - val_loss: 0.6762\n",
      "\u001b[1m155/155\u001b[0m \u001b[32m━━━━━━━━━━━━━━━━━━━━\u001b[0m\u001b[37m\u001b[0m \u001b[1m3s\u001b[0m 21ms/step - accuracy: 0.7827 - loss: 0.6993\n",
      "\u001b[1m155/155\u001b[0m \u001b[32m━━━━━━━━━━━━━━━━━━━━\u001b[0m\u001b[37m\u001b[0m \u001b[1m4s\u001b[0m 24ms/step\n",
      "Bidirectional LSTM Model Accuracy: 0.7803794741630554\n",
      "Bidirectional LSTM Model Classification Report:\n",
      "               precision    recall  f1-score   support\n",
      "\n",
      "      Normal       0.18      0.51      0.27       282\n",
      "        Hate       0.95      0.81      0.88      3798\n",
      "   Offensive       0.70      0.74      0.72       874\n",
      "\n",
      "    accuracy                           0.78      4954\n",
      "   macro avg       0.61      0.69      0.62      4954\n",
      "weighted avg       0.86      0.78      0.81      4954\n",
      "\n"
     ]
    }
   ],
   "source": [
    "#Define Bidirectional LSTM model\n",
    "bi_lstm_model = Sequential()\n",
    "bi_lstm_model.add(Embedding(input_dim=vocab_size, output_dim=128, input_length=100))\n",
    "bi_lstm_model.add(SpatialDropout1D(0.2))\n",
    "bi_lstm_model.add(Bidirectional(LSTM(100, dropout=0.2, recurrent_dropout=0.2)))\n",
    "bi_lstm_model.add(Dense(3, activation='softmax'))  # Assuming 3 classes\n",
    "\n",
    "bi_lstm_model.compile(loss='sparse_categorical_crossentropy', optimizer='adam', metrics=['accuracy'])\n",
    "bi_lstm_model.fit(X_train_pad_res, y_train_pad_res, epochs=5, batch_size=64, validation_data=(X_test_pad, y_test_pad))\n",
    "\n",
    "# Evaluate Bidirectional LSTM model\n",
    "bi_lstm_loss, bi_lstm_accuracy = bi_lstm_model.evaluate(X_test_pad, y_test_pad)\n",
    "bi_lstm_y_pred = bi_lstm_model.predict(X_test_pad)\n",
    "bi_lstm_y_pred_classes = np.argmax(bi_lstm_y_pred, axis=1)\n",
    "bi_lstm_report = classification_report(y_test_pad, bi_lstm_y_pred_classes, target_names=['Normal', 'Hate', 'Offensive'])\n",
    "\n",
    "print(\"Bidirectional LSTM Model Accuracy:\", bi_lstm_accuracy)\n",
    "print(\"Bidirectional LSTM Model Classification Report:\\n\", bi_lstm_report)"
   ]
  }
 ],
 "metadata": {
  "kernelspec": {
   "display_name": "Python 3",
   "language": "python",
   "name": "python3"
  },
  "language_info": {
   "codemirror_mode": {
    "name": "ipython",
    "version": 3
   },
   "file_extension": ".py",
   "mimetype": "text/x-python",
   "name": "python",
   "nbconvert_exporter": "python",
   "pygments_lexer": "ipython3",
   "version": "3.12.4"
  }
 },
 "nbformat": 4,
 "nbformat_minor": 2
}
