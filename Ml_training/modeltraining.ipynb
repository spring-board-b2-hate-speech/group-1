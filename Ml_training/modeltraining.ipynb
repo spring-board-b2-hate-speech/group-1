{
 "cells": [
  {
   "cell_type": "markdown",
   "metadata": {},
   "source": [
    "# Import Necessary Libraries and  loaad the dataset"
   ]
  },
  {
   "cell_type": "code",
   "execution_count": 2,
   "metadata": {},
   "outputs": [],
   "source": [
    "import pandas as pd\n",
    "from sklearn.feature_extraction.text import TfidfVectorizer\n",
    "from sklearn.model_selection import train_test_split, RandomizedSearchCV\n",
    "from sklearn.metrics import f1_score, classification_report, precision_score, confusion_matrix\n",
    "from sklearn.pipeline import Pipeline\n",
    "from imblearn.pipeline import Pipeline as ImbPipeline\n",
    "from imblearn.over_sampling import SMOTE\n",
    "from sklearn.ensemble import RandomForestClassifier\n",
    "from sklearn.svm import SVC\n",
    "from sklearn.naive_bayes import MultinomialNB\n",
    "from sklearn.linear_model import LogisticRegression\n",
    "from sklearn.tree import DecisionTreeClassifier\n",
    "import joblib\n",
    "import matplotlib.pyplot as plt\n",
    "import seaborn as sns\n",
    "import numpy as np\n",
    "# Load the cleaned dataset\n",
    "df = pd.read_csv('final.csv')\n",
    "text_column = 'tweet'  \n",
    "df[text_column] = df[text_column].astype(str).fillna('')\n",
    "y = df['class'].values\n"
   ]
  },
  {
   "cell_type": "markdown",
   "metadata": {},
   "source": [
    "# Initialize the TF-IDF Vectorizer and  Handle Imbalanced Data with SMOTE"
   ]
  },
  {
   "cell_type": "code",
   "execution_count": 3,
   "metadata": {},
   "outputs": [
    {
     "name": "stdout",
     "output_type": "stream",
     "text": [
      "Shape of TF-IDF matrix for training data: (19826, 4000)\n",
      "Shape of TF-IDF matrix for test data: (4957, 4000)\n"
     ]
    }
   ],
   "source": [
    "# Split the data into features (X) and labels (y)\n",
    "X = df[text_column]\n",
    "y = df['class']\n",
    "\n",
    "# Split the data into training and testing sets\n",
    "X_train, X_test, y_train, y_test = train_test_split(X, y, test_size=0.2, random_state=42)\n",
    "\n",
    "# Initialize TfidfVectorizer\n",
    "tfidf_vectorizer = TfidfVectorizer(max_features=4000)  # Adjust max_features as needed\n",
    "\n",
    "# Fit and transform the training data, then transform the test data\n",
    "X_train_tfidf = tfidf_vectorizer.fit_transform(X_train)\n",
    "X_test_tfidf = tfidf_vectorizer.transform(X_test)\n",
    "\n",
    "print(\"Shape of TF-IDF matrix for training data:\", X_train_tfidf.shape)\n",
    "print(\"Shape of TF-IDF matrix for test data:\", X_test_tfidf.shape)\n",
    "\n",
    "smote = SMOTE(random_state=42)\n",
    "X_train_resampled, y_train_resampled = smote.fit_resample(X_train_tfidf, y_train)\n",
    "\n"
   ]
  },
  {
   "cell_type": "markdown",
   "metadata": {},
   "source": [
    "# Define Models and Pipelines"
   ]
  },
  {
   "cell_type": "code",
   "execution_count": 4,
   "metadata": {},
   "outputs": [],
   "source": [
    "# Define the models\n",
    "models = {\n",
    "    'RandomForest': RandomForestClassifier(),\n",
    "    'SVM': SVC(),\n",
    "    'NaiveBayes': MultinomialNB(),\n",
    "    'LogisticRegression': LogisticRegression(max_iter=1000),\n",
    "    'DecisionTree': DecisionTreeClassifier()\n",
    "}\n",
    "\n",
    "# Define parameter grids for each model\n",
    "param_grids = {\n",
    "    'RandomForest': {\n",
    "        'clf__n_estimators': [50, 100, 200],\n",
    "        'clf__max_depth': [None, 10, 20, 30],\n",
    "        'clf__min_samples_split': [2, 5, 10],\n",
    "        'clf__min_samples_leaf': [1, 2, 4]\n",
    "    },\n",
    "    'SVM': {\n",
    "        'clf__C': [0.1, 1, 10, 100],\n",
    "        'clf__gamma': [1, 0.1, 0.01, 0.001],\n",
    "        'clf__kernel': ['linear', 'rbf']\n",
    "        \n",
    "    },\n",
    "    'NaiveBayes': {\n",
    "        'clf__alpha': [0.5, 1.0, 1.5]\n",
    "    },\n",
    "    'LogisticRegression': {\n",
    "        'clf__C': [0.01, 0.1, 1, 10, 100]\n",
    "    },\n",
    "    'DecisionTree': {\n",
    "        'clf__max_depth': [None, 10, 20, 30],\n",
    "        'clf__min_samples_split': [2, 5, 10],\n",
    "        'clf__min_samples_leaf': [1, 2, 4]\n",
    "    }\n",
    "}\n",
    "\n",
    "# Define pipelines\n",
    "pipelines = {\n",
    "    model_name: ImbPipeline([\n",
    "        ('tfidf', TfidfVectorizer(max_features=4000)),\n",
    "        ('smote', SMOTE(random_state=42)),\n",
    "        ('clf', model)\n",
    "    ])\n",
    "    for model_name, model in models.items()\n",
    "}"
   ]
  },
  {
   "cell_type": "markdown",
   "metadata": {},
   "source": [
    "# Hyperparameter Tuning"
   ]
  },
  {
   "cell_type": "code",
   "execution_count": 5,
   "metadata": {},
   "outputs": [
    {
     "name": "stdout",
     "output_type": "stream",
     "text": [
      "Fitting 3 folds for each of 10 candidates, totalling 30 fits\n",
      "Best parameters for RandomForest: {'clf__n_estimators': 100, 'clf__min_samples_split': 5, 'clf__min_samples_leaf': 1, 'clf__max_depth': None}\n",
      "Fitting 3 folds for each of 10 candidates, totalling 30 fits\n",
      "Best parameters for SVM: {'clf__kernel': 'rbf', 'clf__gamma': 1, 'clf__C': 1}\n",
      "Fitting 3 folds for each of 3 candidates, totalling 9 fits\n"
     ]
    },
    {
     "name": "stderr",
     "output_type": "stream",
     "text": [
      "C:\\Users\\chish\\AppData\\Roaming\\Python\\Python311\\site-packages\\sklearn\\model_selection\\_search.py:320: UserWarning: The total space of parameters 3 is smaller than n_iter=10. Running 3 iterations. For exhaustive searches, use GridSearchCV.\n",
      "  warnings.warn(\n"
     ]
    },
    {
     "name": "stdout",
     "output_type": "stream",
     "text": [
      "Best parameters for NaiveBayes: {'clf__alpha': 1.5}\n",
      "Fitting 3 folds for each of 5 candidates, totalling 15 fits\n"
     ]
    },
    {
     "name": "stderr",
     "output_type": "stream",
     "text": [
      "C:\\Users\\chish\\AppData\\Roaming\\Python\\Python311\\site-packages\\sklearn\\model_selection\\_search.py:320: UserWarning: The total space of parameters 5 is smaller than n_iter=10. Running 5 iterations. For exhaustive searches, use GridSearchCV.\n",
      "  warnings.warn(\n"
     ]
    },
    {
     "name": "stdout",
     "output_type": "stream",
     "text": [
      "Best parameters for LogisticRegression: {'clf__C': 1}\n",
      "Fitting 3 folds for each of 10 candidates, totalling 30 fits\n",
      "Best parameters for DecisionTree: {'clf__min_samples_split': 10, 'clf__min_samples_leaf': 4, 'clf__max_depth': None}\n"
     ]
    }
   ],
   "source": [
    "\n",
    "# Hyperparameter tuning\n",
    "best_estimators = {}\n",
    "for model_name, pipeline in pipelines.items():\n",
    "    random_search = RandomizedSearchCV(pipeline, param_grids[model_name], n_iter=10, cv=3, scoring='accuracy', n_jobs=-1, verbose=2, random_state=42)\n",
    "    random_search.fit(X_train, y_train)\n",
    "    best_estimators[model_name] = random_search.best_estimator_\n",
    "    print(f\"Best parameters for {model_name}: {random_search.best_params_}\")\n",
    "\n"
   ]
  },
  {
   "cell_type": "markdown",
   "metadata": {},
   "source": [
    "# Model Evaluation and Visualization"
   ]
  },
  {
   "cell_type": "code",
   "execution_count": 6,
   "metadata": {},
   "outputs": [],
   "source": [
    "def evaluate_model(model, X_test, y_test, model_name):\n",
    "    y_pred = model.predict(X_test)\n",
    "    accuracy = accuracy_score(y_test, y_pred)\n",
    "    print(f'{model_name} - Accuracy: {accuracy}')\n",
    "    print(classification_report(y_test, y_pred, target_names=['Normal', 'Offensive', 'Hate']))\n",
    "\n",
    "    # Confusion matrix\n",
    "    cm = confusion_matrix(y_test, y_pred)\n",
    "    plt.figure(figsize=(10, 7))\n",
    "    sns.heatmap(cm, annot=True, fmt='d', cmap='Blues', xticklabels=['Normal', 'Offensive', 'Hate'], yticklabels=['Normal', 'Offensive', 'Hate'])\n",
    "    plt.title(f'{model_name} - Confusion Matrix')\n",
    "    plt.ylabel('Actual')\n",
    "    plt.xlabel('Predicted')\n",
    "    plt.show()"
   ]
  },
  {
   "cell_type": "markdown",
   "metadata": {},
   "source": [
    "# Save the Best Model"
   ]
  },
  {
   "cell_type": "code",
   "execution_count": 7,
   "metadata": {},
   "outputs": [
    {
     "name": "stdout",
     "output_type": "stream",
     "text": [
      "The best model is RandomForest and it has been saved as best_model.pkl\n"
     ]
    }
   ],
   "source": [
    "# Determine the best model based on F1 score\n",
    "best_model_name = max(best_estimators, key=lambda name: f1_score(y_test, best_estimators[name].predict(X_test), average='weighted'))\n",
    "best_model = best_estimators[best_model_name]\n",
    "\n",
    "# Save the best model\n",
    "joblib.dump(best_model, 'best_model.pkl')\n",
    "print(f'The best model is {best_model_name} and it has been saved as best_model.pkl')\n"
   ]
  },
  {
   "cell_type": "markdown",
   "metadata": {},
   "source": [
    "# Loading the original dataset to see predictions"
   ]
  },
  {
   "cell_type": "code",
   "execution_count": 8,
   "metadata": {},
   "outputs": [],
   "source": [
    "import pandas as pd\n",
    "\n",
    "# Load the new data\n",
    "new_df = pd.read_csv('labeled_data.csv')\n",
    "new_text_column = 'tweet'\n",
    "new_df[new_text_column] = new_df[new_text_column].astype(str).fillna('')\n",
    "new_X = new_df[new_text_column]\n",
    "\n",
    "# Predict using the best model\n",
    "new_predictions = best_model.predict(new_X)"
   ]
  },
  {
   "cell_type": "markdown",
   "metadata": {},
   "source": [
    "# Predictions "
   ]
  },
  {
   "cell_type": "code",
   "execution_count": 9,
   "metadata": {},
   "outputs": [
    {
     "name": "stdout",
     "output_type": "stream",
     "text": [
      "                                                   tweet  predictions\n",
      "0      !!! RT @mayasolovely: As a woman you shouldn't...            2\n",
      "1      !!!!! RT @mleew17: boy dats cold...tyga dwn ba...            1\n",
      "2      !!!!!!! RT @UrKindOfBrand Dawg!!!! RT @80sbaby...            1\n",
      "3      !!!!!!!!! RT @C_G_Anderson: @viva_based she lo...            1\n",
      "4      !!!!!!!!!!!!! RT @ShenikaRoberts: The shit you...            1\n",
      "...                                                  ...          ...\n",
      "24778  you's a muthaf***in lie &#8220;@LifeAsKing: @2...            2\n",
      "24779  you've gone and broke the wrong heart baby, an...            2\n",
      "24780  young buck wanna eat!!.. dat nigguh like I ain...            1\n",
      "24781              youu got wild bitches tellin you lies            1\n",
      "24782  ~~Ruffled | Ntac Eileen Dahlia - Beautiful col...            2\n",
      "\n",
      "[24783 rows x 2 columns]\n"
     ]
    }
   ],
   "source": [
    "# Add predictions to the dataframe\n",
    "new_df['predictions'] = new_predictions\n",
    "\n",
    "# Save the predictions to a CSV file\n",
    "new_df.to_csv('new_data_with_predictions.csv', index=False)\n",
    "\n",
    "# Print the predictions\n",
    "print(new_df[['tweet', 'predictions']])\n"
   ]
  }
 ],
 "metadata": {
  "kernelspec": {
   "display_name": "Python 3",
   "language": "python",
   "name": "python3"
  },
  "language_info": {
   "codemirror_mode": {
    "name": "ipython",
    "version": 3
   },
   "file_extension": ".py",
   "mimetype": "text/x-python",
   "name": "python",
   "nbconvert_exporter": "python",
   "pygments_lexer": "ipython3",
   "version": "3.11.8"
  }
 },
 "nbformat": 4,
 "nbformat_minor": 2
}
