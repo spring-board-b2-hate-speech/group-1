{
 "cells": [
  {
   "cell_type": "code",
   "execution_count": 7,
   "metadata": {},
   "outputs": [],
   "source": [
    "import re\n",
    "import string\n",
    "import pickle\n",
    "import numpy as np\n",
    "import pandas as pd\n",
    "from nltk.corpus import stopwords\n",
    "from nltk.stem import WordNetLemmatizer\n",
    "from tensorflow.keras.models import load_model\n",
    "from tensorflow.keras.preprocessing.sequence import pad_sequences\n",
    "from abbreivations import replacement_dict  # Ensure this import points to your actual replacement_dict\n",
    "\n",
    "# Define the preprocessing function\n",
    "def preprocess_text(text, replacement_dict):\n",
    "    def remove_usernames(tweet):\n",
    "        return re.sub(r'@\\w+', '', tweet)\n",
    "\n",
    "    def remove_sequence(tweet):\n",
    "        return re.sub(r'\\b\\d+\\b', '', tweet)\n",
    "\n",
    "    def remove_urls(tweet):\n",
    "        return re.sub(r'http\\S+|www\\S+|https\\S+|@\\w+|#\\w+', '', tweet, flags=re.MULTILINE)\n",
    "\n",
    "    def remove_punctuations(text):\n",
    "        punctuations_list = string.punctuation\n",
    "        temp = str.maketrans('', '', punctuations_list)\n",
    "        return text.translate(temp)\n",
    "\n",
    "    def replace_words(tweet, abbreviations_dict):\n",
    "        pattern = re.compile(r'\\b(' + '|'.join(re.escape(key) for key in abbreviations_dict.keys()) + r')\\b')\n",
    "        return pattern.sub(lambda x: abbreviations_dict[x.group()], tweet)\n",
    "\n",
    "    def remove_stopwords(text):\n",
    "        stop_words = stopwords.words('english')\n",
    "        imp_words = []\n",
    "        lemmatizer = WordNetLemmatizer()\n",
    "        for word in str(text).split():\n",
    "            if word not in stop_words:\n",
    "                imp_words.append(lemmatizer.lemmatize(word))\n",
    "        output = \" \".join(imp_words)\n",
    "        return output\n",
    "\n",
    "    text = remove_usernames(text)\n",
    "    text = remove_sequence(text)\n",
    "    text = remove_urls(text)\n",
    "    text = text.lower()\n",
    "    text = remove_punctuations(text)\n",
    "    text = replace_words(text, replacement_dict)\n",
    "    text = remove_stopwords(text)\n",
    "    return text\n",
    "\n"
   ]
  },
  {
   "cell_type": "code",
   "execution_count": 9,
   "metadata": {},
   "outputs": [
    {
     "name": "stderr",
     "output_type": "stream",
     "text": [
      "WARNING:absl:Compiled the loaded model, but the compiled metrics have yet to be built. `model.compile_metrics` will be empty until you train or evaluate the model.\n"
     ]
    },
    {
     "name": "stdout",
     "output_type": "stream",
     "text": [
      "\u001b[1m1/1\u001b[0m \u001b[32m━━━━━━━━━━━━━━━━━━━━\u001b[0m\u001b[37m\u001b[0m \u001b[1m1s\u001b[0m 782ms/step\n",
      "Predicted Label: Hate Speech\n"
     ]
    }
   ],
   "source": [
    "\n",
    "# Load the trained model and tokenizer\n",
    "model = load_model('trained_model.h5')\n",
    "with open('tokenizer.pkl', 'rb') as handle:\n",
    "    tokenizer = pickle.load(handle)\n",
    "\n",
    "# Define the prediction function\n",
    "def predict_text(text):\n",
    "    preprocessed_text = preprocess_text(text, replacement_dict)\n",
    "    text_seq = tokenizer.texts_to_sequences([preprocessed_text])\n",
    "    text_pad = pad_sequences(text_seq, maxlen=100)  # Ensure maxlen is the same as used during training\n",
    "    prediction = model.predict(text_pad)\n",
    "    predicted_class = np.argmax(prediction, axis=1)\n",
    "    label_mapping = {0: 'Non Hate Speech', 1: 'Hate Speech'}\n",
    "    predicted_label = label_mapping[predicted_class[0]]\n",
    "    return predicted_label\n",
    "\n",
    "# Example usage\n",
    "text = \"i love u\"\n",
    "predicted_label = predict_text(text)\n",
    "print(f\"Predicted Label: {predicted_label}\")"
   ]
  }
 ],
 "metadata": {
  "kernelspec": {
   "display_name": "Python 3",
   "language": "python",
   "name": "python3"
  },
  "language_info": {
   "codemirror_mode": {
    "name": "ipython",
    "version": 3
   },
   "file_extension": ".py",
   "mimetype": "text/x-python",
   "name": "python",
   "nbconvert_exporter": "python",
   "pygments_lexer": "ipython3",
   "version": "3.11.8"
  }
 },
 "nbformat": 4,
 "nbformat_minor": 2
}
