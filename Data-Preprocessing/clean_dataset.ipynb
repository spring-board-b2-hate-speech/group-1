{
 "cells": [
  {
   "cell_type": "markdown",
   "metadata": {},
   "source": [
    "Import Necessary Libraries"
   ]
  },
  {
   "cell_type": "code",
   "execution_count": 5,
   "metadata": {},
   "outputs": [],
   "source": [
    "import pandas as pd\n",
    "import re"
   ]
  },
  {
   "cell_type": "code",
   "execution_count": 6,
   "metadata": {},
   "outputs": [],
   "source": [
    "# Step 1: Load the data\n",
    "def load_data(filepath):\n",
    "    \"\"\"\n",
    "    Load the dataset from a CSV file.\n",
    "    \n",
    "    :param filepath: Path to the CSV file.\n",
    "    :return: pandas DataFrame\n",
    "    \"\"\"\n",
    "    return pd.read_csv(filepath)\n",
    "\n",
    "# Step 2: Preprocess the data\n",
    "def preprocess_data(df):\n",
    "    \"\"\"\n",
    "    Preprocess the dataset by performing basic cleaning.\n",
    "    \n",
    "    :param df: pandas DataFrame containing the dataset.\n",
    "    :return: Cleaned pandas DataFrame\n",
    "    \"\"\"\n",
    "    # Remove any rows with missing values\n",
    "    df.dropna(inplace=True)\n",
    "    # Reset the index after dropping rows\n",
    "    df.reset_index(drop=True, inplace=True)\n",
    "    return df\n",
    "\n",
    "# Step 3: Remove useless elements\n",
    "def clean_text(text):\n",
    "    \"\"\"\n",
    "    Clean the text by removing usernames, URLs, symbols, and useless numbers.\n",
    "    \n",
    "    :param text: Original text.\n",
    "    :return: Cleaned text.\n",
    "    \"\"\"\n",
    "    # Remove URLs\n",
    "    text = re.sub(r'http\\S+|www\\S+|https\\S+', '', text, flags=re.MULTILINE)\n",
    "    # Remove usernames\n",
    "    text = re.sub(r'@\\w+', '', text)\n",
    "    # Remove special characters, numbers, punctuations\n",
    "    text = re.sub(r'[^A-Za-z\\s]', '', text)\n",
    "    # Remove extra spaces\n",
    "    text = re.sub(r'\\s+', ' ', text).strip()\n",
    "    return text\n",
    "\n",
    "def clean_data(df, text_column):\n",
    "    \"\"\"\n",
    "    Apply the clean_text function to a specific column in the DataFrame.\n",
    "    \n",
    "    :param df: pandas DataFrame containing the dataset.\n",
    "    :param text_column: The name of the column containing text data.\n",
    "    :return: pandas DataFrame with cleaned text.\n",
    "    \"\"\"\n",
    "    df[text_column] = df[text_column].apply(clean_text)\n",
    "    return df\n",
    "\n",
    "# Step 4: Save the cleaned data\n",
    "def save_data(df, output_filepath):\n",
    "    \"\"\"\n",
    "    Save the cleaned DataFrame to a CSV file.\n",
    "    \n",
    "    :param df: pandas DataFrame containing the cleaned dataset.\n",
    "    :param output_filepath: Path where the cleaned CSV will be saved.\n",
    "    \"\"\"\n",
    "    df.to_csv(output_filepath, index=False)\n",
    "\n",
    "\n",
    "\n"
   ]
  },
  {
   "cell_type": "code",
   "execution_count": 7,
   "metadata": {},
   "outputs": [],
   "source": [
    "# Main function to execute the steps\n",
    "def main():\n",
    "    input_filepath = 'labeled_data.csv'\n",
    "    output_filepath = 'cleaned_data.csv'\n",
    "    text_column = 'tweet'  # Update this if your text column has a different name\n",
    "\n",
    "    # Load data\n",
    "    df = load_data(input_filepath)\n",
    "    \n",
    "    # Preprocess data\n",
    "    df = preprocess_data(df)\n",
    "    \n",
    "    # Clean data\n",
    "    df = clean_data(df, text_column)\n",
    "    \n",
    "    # Save cleaned data\n",
    "    save_data(df, output_filepath)\n",
    "\n",
    "# Execute the main function\n",
    "if __name__ == \"__main__\":\n",
    "    main()"
   ]
  }
 ],
 "metadata": {
  "kernelspec": {
   "display_name": "Python 3",
   "language": "python",
   "name": "python3"
  },
  "language_info": {
   "codemirror_mode": {
    "name": "ipython",
    "version": 3
   },
   "file_extension": ".py",
   "mimetype": "text/x-python",
   "name": "python",
   "nbconvert_exporter": "python",
   "pygments_lexer": "ipython3",
   "version": "3.12.3"
  }
 },
 "nbformat": 4,
 "nbformat_minor": 2
}
