{
 "cells": [
  {
   "cell_type": "code",
   "execution_count": null,
   "metadata": {},
   "outputs": [],
   "source": [
    "import pandas as pd\n",
    "from collections import Counter\n",
    "import matplotlib.pyplot as plt\n",
    "\n",
    "# Load the further cleaned data\n",
    "df = pd.read_csv('further_cleaned_data.csv')\n",
    "\n",
    "# Ensure all entries in the tweet column are strings\n",
    "df['tweet'] = df['tweet'].astype(str)\n",
    "\n",
    "# Fill any NaNs or missing values with an empty string\n",
    "df['tweet'] = df['tweet'].fillna('')"
   ]
  },
  {
   "cell_type": "code",
   "execution_count": null,
   "metadata": {},
   "outputs": [],
   "source": [
    "# Display basic information and first few rows\n",
    "print(df.info())\n",
    "print(df.head())"
   ]
  },
  {
   "cell_type": "code",
   "execution_count": null,
   "metadata": {},
   "outputs": [],
   "source": [
    "# Check the distribution of each class\n",
    "label_counts = df['class'].value_counts()\n",
    "print(\"Distribution of labels:\")\n",
    "print(label_counts)"
   ]
  },
  {
   "cell_type": "code",
   "execution_count": null,
   "metadata": {},
   "outputs": [],
   "source": [
    "# Plot the distribution of labels\n",
    "label_counts.plot(kind='bar')\n",
    "plt.xlabel('Class')\n",
    "plt.ylabel('Count')\n",
    "plt.title('Distribution of Labels')\n",
    "plt.show()"
   ]
  },
  {
   "cell_type": "code",
   "execution_count": null,
   "metadata": {},
   "outputs": [],
   "source": [
    "# Function to get the top words in each class\n",
    "def get_top_words(texts, n=10):\n",
    "    all_words = ' '.join(texts).split()\n",
    "    word_counts = Counter(all_words)\n",
    "    return word_counts.most_common(n)\n",
    "\n",
    "# Analyze the most frequent words in each class\n",
    "for label in df['class'].unique():\n",
    "    texts = df[df['class'] == label]['tweet']\n",
    "    top_words = get_top_words(texts)\n",
    "    print(f\"Top words in class {label}:\")\n",
    "    print(top_words)\n",
    "    print()\n"
   ]
  }
 ],
 "metadata": {
  "kernelspec": {
   "display_name": "Python 3",
   "language": "python",
   "name": "python3"
  },
  "language_info": {
   "codemirror_mode": {
    "name": "ipython",
    "version": 3
   },
   "file_extension": ".py",
   "mimetype": "text/x-python",
   "name": "python",
   "nbconvert_exporter": "python",
   "pygments_lexer": "ipython3",
   "version": "3.12.3"
  }
 },
 "nbformat": 4,
 "nbformat_minor": 2
}
